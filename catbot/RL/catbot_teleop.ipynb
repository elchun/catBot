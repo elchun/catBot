{
 "cells": [
  {
   "cell_type": "code",
   "execution_count": 1,
   "metadata": {},
   "outputs": [
    {
     "ename": "ModuleNotFoundError",
     "evalue": "No module named 'catBot'",
     "output_type": "error",
     "traceback": [
      "\u001b[0;31m---------------------------------------------------------------------------\u001b[0m",
      "\u001b[0;31mModuleNotFoundError\u001b[0m                       Traceback (most recent call last)",
      "Cell \u001b[0;32mIn[1], line 21\u001b[0m\n\u001b[1;32m      3\u001b[0m \u001b[39mfrom\u001b[39;00m \u001b[39mIPython\u001b[39;00m\u001b[39m.\u001b[39;00m\u001b[39mdisplay\u001b[39;00m \u001b[39mimport\u001b[39;00m HTML, SVG, display\n\u001b[1;32m      4\u001b[0m \u001b[39mfrom\u001b[39;00m \u001b[39mpydrake\u001b[39;00m\u001b[39m.\u001b[39;00m\u001b[39mall\u001b[39;00m \u001b[39mimport\u001b[39;00m (\n\u001b[1;32m      5\u001b[0m     AddMultibodyPlantSceneGraph,\n\u001b[1;32m      6\u001b[0m     DiagramBuilder,\n\u001b[0;32m   (...)\u001b[0m\n\u001b[1;32m     18\u001b[0m     Demultiplexer,\n\u001b[1;32m     19\u001b[0m )\n\u001b[0;32m---> 21\u001b[0m \u001b[39mimport\u001b[39;00m \u001b[39mcatBot\u001b[39;00m\n",
      "\u001b[0;31mModuleNotFoundError\u001b[0m: No module named 'catBot'"
     ]
    }
   ],
   "source": [
    "import numpy as np\n",
    "import pydot\n",
    "from IPython.display import HTML, SVG, display\n",
    "from pydrake.all import (\n",
    "    AddMultibodyPlantSceneGraph,\n",
    "    DiagramBuilder,\n",
    "    GenerateHtml,\n",
    "    InverseDynamicsController,\n",
    "    PidController,\n",
    "    MeshcatVisualizer,\n",
    "    MeshcatVisualizerParams,\n",
    "    MultibodyPlant,\n",
    "    Parser,\n",
    "    Simulator,\n",
    "    StartMeshcat,\n",
    "    SceneGraph,\n",
    "    PassThrough,\n",
    "    Demultiplexer,\n",
    ")\n",
    "\n",
    "import catBot"
   ]
  },
  {
   "cell_type": "code",
   "execution_count": 2,
   "metadata": {},
   "outputs": [
    {
     "name": "stderr",
     "output_type": "stream",
     "text": [
      "INFO:drake:Meshcat listening for connections at http://localhost:7002\n"
     ]
    }
   ],
   "source": [
    "meshcat = StartMeshcat()"
   ]
  },
  {
   "cell_type": "code",
   "execution_count": 3,
   "metadata": {},
   "outputs": [],
   "source": [
    "time_step = 1e-3\n",
    "\n",
    "builder = DiagramBuilder()\n",
    "\n",
    "# -- Add original plant -- #\n",
    "# Adds both MultibodyPlant and the SceneGraph, and wires them together.\n",
    "plant, scene_graph = AddMultibodyPlantSceneGraph(builder, time_step=time_step)\n",
    "# Note that we parse into both the plant and the scene_graph here.\n",
    "model = Parser(plant, scene_graph).AddModelFromFile(\n",
    "    \"../models/singleAxisCatBot.urdf\")\n",
    "plant.Finalize()\n",
    "\n",
    "# -- Add controller plant -- #\n",
    "controller_plant = MultibodyPlant(time_step=time_step)\n",
    "model = Parser(controller_plant).AddModelFromFile(\n",
    "    \"../models/singleAxisCatBot.urdf\")\n",
    "controller_plant.Finalize()\n",
    "\n",
    "# -- Add visualizer -- #\n",
    "visualizer = MeshcatVisualizer.AddToBuilder(builder, scene_graph, meshcat)\n",
    "\n",
    "meshcat.ResetRenderMode()\n",
    "meshcat.DeleteAddedControls()\n",
    "\n",
    "# -- Add controller -- #\n",
    "# Create a PID controller for each joint.\n",
    "num_model_actuators = controller_plant.num_actuators()\n",
    "\n",
    "state_projection_matrix = np.array([\n",
    "    [0, 1, 0, 0, 0, 0, 0, 0, 0, 0],\n",
    "    [0, 0, 1, 0, 0, 0, 0, 0, 0, 0],\n",
    "    [0, 0, 0, 1, 0, 0, 0, 0, 0, 0],\n",
    "    [0, 0, 0, 0, 1, 0, 0, 0, 0, 0],\n",
    "\n",
    "    [0, 0, 0, 0, 0, 0, 1, 0, 0, 0],\n",
    "    [0, 0, 0, 0, 0, 0, 0, 1, 0, 0],\n",
    "    [0, 0, 0, 0, 0, 0, 0, 0, 1, 0],\n",
    "    [0, 0, 0, 0, 0, 0, 0, 0, 0, 1],\n",
    "])\n",
    "\n",
    "kp = [1] * num_model_actuators \n",
    "ki = [0] * num_model_actuators \n",
    "kd = [20] * num_model_actuators \n",
    "catbot_controller = builder.AddSystem(\n",
    "    PidController(state_projection_matrix, kp, ki, kd)\n",
    ")\n",
    "\n",
    "catbot_controller.set_name(\"catbot_controller\")\n",
    "builder.Connect(\n",
    "    plant.get_state_output_port(model),\n",
    "    catbot_controller.get_input_port_estimated_state(),\n",
    ")\n",
    "builder.Connect(\n",
    "    catbot_controller.get_output_port_control(), \n",
    "    plant.get_actuation_input_port()\n",
    ")\n",
    "\n",
    "# -- Set up teleop wigids -- #\n",
    "\n",
    "q0 = [0.0, 0.0, 0.0, 0.0, 0.0]\n",
    "\n",
    "teleop = builder.AddSystem(\n",
    "    MeshcatPoseSliders(\n",
    "        meshcat,\n",
    "        min_range=MeshcatPoseSliders.MinRange(roll=0,\n",
    "                                                pitch=-0.5,\n",
    "                                                yaw=-np.pi,\n",
    "                                                x=-0.4,\n",
    "                                                y=-0.4,\n",
    "                                                z=0.0),\n",
    "        max_range=MeshcatPoseSliders.MaxRange(roll=2 * np.pi,\n",
    "                                                pitch=np.pi,\n",
    "                                                yaw=np.pi,\n",
    "                                                x=0.4,\n",
    "                                                y=0.25,\n",
    "                                                z=0.75),\n",
    "        body_index=plant.GetBodyByName(\"panda_link8\").index(),\n",
    "        # It seems that value is set by the default joint positions, not here.\n",
    "        value=MeshcatPoseSliders.Value(roll=0.0,  # idk if this part works...  \n",
    "                                    pitch=0.0,\n",
    "                                    yaw=0.0,\n",
    "                                    x=0.0,\n",
    "                                    y=0.0,\n",
    "                                    z=0.5)))"
   ]
  },
  {
   "cell_type": "code",
   "execution_count": null,
   "metadata": {},
   "outputs": [],
   "source": []
  }
 ],
 "metadata": {
  "kernelspec": {
   "display_name": "68210",
   "language": "python",
   "name": "python3"
  },
  "language_info": {
   "codemirror_mode": {
    "name": "ipython",
    "version": 3
   },
   "file_extension": ".py",
   "mimetype": "text/x-python",
   "name": "python",
   "nbconvert_exporter": "python",
   "pygments_lexer": "ipython3",
   "version": "3.10.11"
  },
  "orig_nbformat": 4
 },
 "nbformat": 4,
 "nbformat_minor": 2
}
