{
 "cells": [
  {
   "attachments": {},
   "cell_type": "markdown",
   "metadata": {},
   "source": [
    "# Test the training procedure of CatBot\n",
    "Based on: \n",
    "https://github.com/RussTedrake/manipulation/blob/master/rl/box_flipup.ipynb\n",
    "\n",
    "Some insight into tensorboard plots:\n",
    "https://medium.com/aureliantactics/understanding-ppo-plots-in-tensorboard-cbc3199b9ba2\n",
    "\n",
    "Use tensorboard --logdir \\(LOGDIR\\)"
   ]
  },
  {
   "cell_type": "code",
   "execution_count": 1,
   "metadata": {},
   "outputs": [],
   "source": [
    "import os\n",
    "import gym\n",
    "import numpy as np\n",
    "import datetime\n",
    "import torch\n",
    "from pydrake.all import StartMeshcat\n",
    "\n",
    "from catbot.RL.catbot_rl_env import CatBotEnv\n",
    "\n",
    "from psutil import cpu_count\n",
    "\n",
    "num_cpu = int(cpu_count() / 2)\n",
    "\n",
    "# Optional imports (these are heavy dependencies for just this one notebook)\n",
    "sb3_available = False\n",
    "try:\n",
    "    from stable_baselines3 import PPO\n",
    "    from stable_baselines3.common.vec_env import SubprocVecEnv\n",
    "    from stable_baselines3.common.env_util import make_vec_env\n",
    "    from stable_baselines3.common.monitor import Monitor\n",
    "    from stable_baselines3.common.callbacks import CheckpointCallback\n",
    "\n",
    "    sb3_available = True\n",
    "except ImportError:\n",
    "    print(\"stable_baselines3 not found\")\n",
    "    print(\"Consider 'pip3 install stable_baselines3'.\")\n"
   ]
  },
  {
   "cell_type": "code",
   "execution_count": 2,
   "metadata": {},
   "outputs": [
    {
     "name": "stderr",
     "output_type": "stream",
     "text": [
      "INFO:drake:Meshcat listening for connections at http://localhost:7000\n"
     ]
    }
   ],
   "source": [
    "meshcat = StartMeshcat()\n",
    "\n",
    "gym.envs.register(\n",
    "    id=\"CatBot-v0\", entry_point=\"catbot.RL.catbot_rl_env:CatBotEnv\"\n",
    ")"
   ]
  },
  {
   "cell_type": "code",
   "execution_count": 5,
   "metadata": {},
   "outputs": [
    {
     "data": {
      "application/vnd.jupyter.widget-view+json": {
       "model_id": "d7d6e4a4d2a24427a816545416c46a2f",
       "version_major": 2,
       "version_minor": 0
      },
      "text/plain": [
       "Output()"
      ]
     },
     "metadata": {},
     "output_type": "display_data"
    },
    {
     "data": {
      "text/html": [
       "<pre style=\"white-space:pre;overflow-x:auto;line-height:normal;font-family:Menlo,'DejaVu Sans Mono',consolas,'Courier New',monospace\"></pre>\n"
      ],
      "text/plain": []
     },
     "metadata": {},
     "output_type": "display_data"
    },
    {
     "data": {
      "text/html": [
       "<pre style=\"white-space:pre;overflow-x:auto;line-height:normal;font-family:Menlo,'DejaVu Sans Mono',consolas,'Courier New',monospace\">\n",
       "</pre>\n"
      ],
      "text/plain": [
       "\n"
      ]
     },
     "metadata": {},
     "output_type": "display_data"
    }
   ],
   "source": [
    "observations = \"state\"\n",
    "time_limit = 4\n",
    "total_timesteps = 10000\n",
    "\n",
    "env = make_vec_env(\n",
    "    CatBotEnv,\n",
    "    n_envs=8,  # Was num_cpu\n",
    "    seed=0,\n",
    "    vec_env_cls=SubprocVecEnv,\n",
    "    env_kwargs={\n",
    "        \"observations\": observations,\n",
    "        \"time_limit\": time_limit,\n",
    "    },\n",
    ")\n",
    "\n",
    "checkpoint_callback = CheckpointCallback(\n",
    "    save_freq=1000,\n",
    "    save_path='./checkpoints/',\n",
    "    name_prefix='PPO_CHECKPOINT_TEST',\n",
    "    save_replay_buffer=True,\n",
    "    save_vecnormalize=True,\n",
    ")\n",
    "\n",
    "use_pretrained_model = False \n",
    "model_zip_fname = \"./models/PPO_C6_0254.zip\"\n",
    "if use_pretrained_model:\n",
    "    model = PPO.load(model_zip_fname, env)\n",
    "    model.learn(total_timesteps=total_timesteps, progress_bar=True, callback=checkpoint_callback)\n",
    "else:\n",
    "    model = PPO(\n",
    "        \"MlpPolicy\",\n",
    "        env,\n",
    "        # env,\n",
    "        verbose=0,\n",
    "        n_steps=4,\n",
    "        n_epochs=2,\n",
    "        batch_size=32,\n",
    "        tensorboard_log=\"./ppo_cat_bot_logs\")\n",
    "    model.learn(total_timesteps=total_timesteps, progress_bar=True, callback=checkpoint_callback)\n"
   ]
  },
  {
   "attachments": {},
   "cell_type": "markdown",
   "metadata": {},
   "source": [
    "## Save Model"
   ]
  },
  {
   "cell_type": "code",
   "execution_count": null,
   "metadata": {},
   "outputs": [
    {
     "name": "stdout",
     "output_type": "stream",
     "text": [
      "Saved model to: 230510_030745_PPO.zip\n"
     ]
    }
   ],
   "source": [
    "save_dir = './models'\n",
    "saved_model_fnames = os.listdir(save_dir)\n",
    "\n",
    "datetime_val = datetime.datetime.now().strftime(\"%y%m%d_%H%M%S\")\n",
    "model_fname = f'{datetime_val}_PPO.zip'\n",
    "\n",
    "save_fname = f'./models/{model_fname}'\n",
    "model.save(save_fname)\n",
    "print(f'Saved model to: {model_fname}')"
   ]
  },
  {
   "attachments": {},
   "cell_type": "markdown",
   "metadata": {},
   "source": [
    "### Show just trained model"
   ]
  },
  {
   "cell_type": "code",
   "execution_count": null,
   "metadata": {},
   "outputs": [],
   "source": [
    "env = gym.make(\"CatBot-v0\", meshcat=meshcat, observations=observations, time_limit=time_limit)\n",
    "env.simulator.set_target_realtime_rate(1.0)\n",
    "\n",
    "obs = env.reset()\n",
    "for i in range(500):\n",
    "    action, _state = model.predict(obs, deterministic=True)\n",
    "    obs, reward, done, info = env.step(action)\n",
    "    env.render()\n",
    "    if done:\n",
    "        obs = env.reset()"
   ]
  },
  {
   "attachments": {},
   "cell_type": "markdown",
   "metadata": {},
   "source": [
    "# Show pretrained model"
   ]
  },
  {
   "cell_type": "code",
   "execution_count": 12,
   "metadata": {},
   "outputs": [
    {
     "name": "stdout",
     "output_type": "stream",
     "text": [
      "Reward:  2473.541793057298\n",
      "Reward:  1128.546436296576\n",
      "Reward:  1308.4025816694825\n",
      "Reward:  2504.9883903866034\n",
      "Reward:  5083.105965891114\n",
      "Reward:  1053.4317289536757\n",
      "Reward:  6354.960053919422\n",
      "Reward:  6983.356253091172\n",
      "Reward:  2688.6914615323262\n",
      "Reward:  656.2204658008205\n",
      "Reward:  1257.5298387726427\n",
      "Reward:  1697.7264754314945\n",
      "Reward:  5831.272018129459\n",
      "Reward:  1031.3276983618139\n",
      "Reward:  1853.2552431528152\n",
      "Reward:  1615.8085806632755\n",
      "Reward:  2192.0874906606527\n",
      "Reward:  1110.7882093386124\n",
      "Reward:  671.9308893641193\n",
      "Reward:  1740.117018252297\n",
      "Reward:  1381.3176535785192\n",
      "Reward:  828.7740888344905\n",
      "Reward:  1392.7337290301205\n",
      "Reward:  756.5635911654873\n",
      "Reward:  714.2167019932075\n",
      "Reward:  1223.7850320616578\n",
      "Reward:  1156.8521859882708\n",
      "Reward:  5855.059925707302\n",
      "Reward:  479.8191112622319\n",
      "Reward:  6264.899020945886\n",
      "Reward:  2808.441348286521\n",
      "Reward:  939.3983666814305\n",
      "Mean reward:  2282.46716713315\n"
     ]
    }
   ],
   "source": [
    "model_zip_fname = \"./checkpoints/230510_125444_PPO_P0_C10_60000_steps.zip\"\n",
    "observations = \"state\"\n",
    "time_limit = 6\n",
    "\n",
    "env = gym.make(\"CatBot-v0\", meshcat=meshcat, observations=observations, time_limit=time_limit)\n",
    "env.simulator.set_target_realtime_rate(8)\n",
    "model = PPO.load(model_zip_fname, env)\n",
    "\n",
    "obs = env.reset()\n",
    "cum_reward = 0\n",
    "reward_list = []\n",
    "for i in range(2000):\n",
    "    action, _state = model.predict(obs, deterministic=True)\n",
    "    obs, reward, done, info = env.step(action)\n",
    "    cum_reward += reward\n",
    "    if done:\n",
    "        print('Reward: ', cum_reward)\n",
    "        reward_list.append(cum_reward)  \n",
    "        cum_reward = 0\n",
    "    env.render()\n",
    "    if done:\n",
    "        obs = env.reset()\n",
    "print('Mean reward: ', np.mean(np.array(reward_list)))"
   ]
  },
  {
   "cell_type": "code",
   "execution_count": null,
   "metadata": {},
   "outputs": [],
   "source": []
  }
 ],
 "metadata": {
  "kernelspec": {
   "display_name": "68210",
   "language": "python",
   "name": "python3"
  },
  "language_info": {
   "codemirror_mode": {
    "name": "ipython",
    "version": 3
   },
   "file_extension": ".py",
   "mimetype": "text/x-python",
   "name": "python",
   "nbconvert_exporter": "python",
   "pygments_lexer": "ipython3",
   "version": "3.10.11"
  },
  "orig_nbformat": 4
 },
 "nbformat": 4,
 "nbformat_minor": 2
}
