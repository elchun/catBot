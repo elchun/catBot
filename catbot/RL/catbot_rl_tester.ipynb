{
 "cells": [
  {
   "attachments": {},
   "cell_type": "markdown",
   "metadata": {},
   "source": [
    "# Test the training procedure of CatBot\n",
    "Based on: \n",
    "https://github.com/RussTedrake/manipulation/blob/master/rl/box_flipup.ipynb\n",
    "\n",
    "Some insight into tensorboard plots:\n",
    "https://medium.com/aureliantactics/understanding-ppo-plots-in-tensorboard-cbc3199b9ba2\n",
    "\n",
    "Use tensorboard --logdir \\(LOGDIR\\)"
   ]
  },
  {
   "cell_type": "code",
   "execution_count": 3,
   "metadata": {},
   "outputs": [],
   "source": [
    "import os\n",
    "import gym\n",
    "import numpy as np\n",
    "import datetime\n",
    "import torch\n",
    "from pydrake.all import StartMeshcat\n",
    "\n",
    "from catbot.RL.catbot_rl_env import CatBotEnv\n",
    "\n",
    "from psutil import cpu_count\n",
    "\n",
    "num_cpu = int(cpu_count() / 2)\n",
    "\n",
    "# Optional imports (these are heavy dependencies for just this one notebook)\n",
    "sb3_available = False\n",
    "try:\n",
    "    from stable_baselines3 import PPO, SAC\n",
    "    from stable_baselines3.common.vec_env import SubprocVecEnv\n",
    "    from stable_baselines3.common.env_util import make_vec_env\n",
    "    from stable_baselines3.common.monitor import Monitor\n",
    "    from stable_baselines3.common.callbacks import CheckpointCallback\n",
    "\n",
    "    sb3_available = True\n",
    "except ImportError:\n",
    "    print(\"stable_baselines3 not found\")\n",
    "    print(\"Consider 'pip3 install stable_baselines3'.\")\n"
   ]
  },
  {
   "cell_type": "code",
   "execution_count": 4,
   "metadata": {},
   "outputs": [
    {
     "name": "stderr",
     "output_type": "stream",
     "text": [
      "INFO:drake:Meshcat listening for connections at http://localhost:7000\n"
     ]
    }
   ],
   "source": [
    "meshcat = StartMeshcat()\n",
    "\n",
    "gym.envs.register(\n",
    "    id=\"CatBot-v0\", entry_point=\"catbot.RL.catbot_rl_env:CatBotEnv\"\n",
    ")"
   ]
  },
  {
   "cell_type": "code",
   "execution_count": null,
   "metadata": {},
   "outputs": [],
   "source": [
    "observations = \"state\"\n",
    "time_limit = 4\n",
    "total_timesteps = 10000\n",
    "\n",
    "env = make_vec_env(\n",
    "    CatBotEnv,\n",
    "    n_envs=8,  # Was num_cpu\n",
    "    seed=0,\n",
    "    vec_env_cls=SubprocVecEnv,\n",
    "    env_kwargs={\n",
    "        \"observations\": observations,\n",
    "        \"time_limit\": time_limit,\n",
    "    },\n",
    ")\n",
    "\n",
    "checkpoint_callback = CheckpointCallback(\n",
    "    save_freq=1000,\n",
    "    save_path='./checkpoints/',\n",
    "    name_prefix='PPO_CHECKPOINT_TEST',\n",
    "    save_replay_buffer=True,\n",
    "    save_vecnormalize=True,\n",
    ")\n",
    "\n",
    "use_pretrained_model = False \n",
    "model_zip_fname = \"./models/PPO_C6_0254.zip\"\n",
    "sac = False\n",
    "print('starting training')\n",
    "if sac:\n",
    "    model = SAC(\n",
    "        \"MlpPolicy\",\n",
    "        # wrapped_env,\n",
    "        env,\n",
    "        verbose=0,\n",
    "        batch_size=32,\n",
    "        tensorboard_log=\"./ppo_cat_bot_logs\",\n",
    "        seed=0)\n",
    "    print('SAC')\n",
    "    model.learn(total_timesteps=total_timesteps, progress_bar=True, callback=checkpoint_callback)\n",
    "else:\n",
    "    print('PPO')\n",
    "    if use_pretrained_model:\n",
    "        model = PPO.load(model_zip_fname, env)\n",
    "        model.learn(total_timesteps=total_timesteps, progress_bar=True, callback=checkpoint_callback)\n",
    "    else:\n",
    "        model = PPO(\n",
    "            \"MlpPolicy\",\n",
    "            env,\n",
    "            # env,\n",
    "            verbose=0,\n",
    "            n_steps=4,\n",
    "            n_epochs=2,\n",
    "            batch_size=32,\n",
    "            tensorboard_log=\"./ppo_cat_bot_logs\")\n",
    "        model.learn(total_timesteps=total_timesteps, progress_bar=True, callback=checkpoint_callback)\n"
   ]
  },
  {
   "attachments": {},
   "cell_type": "markdown",
   "metadata": {},
   "source": [
    "## Save Model"
   ]
  },
  {
   "cell_type": "code",
   "execution_count": null,
   "metadata": {},
   "outputs": [
    {
     "name": "stdout",
     "output_type": "stream",
     "text": [
      "Saved model to: 230510_030745_PPO.zip\n"
     ]
    }
   ],
   "source": [
    "save_dir = './models'\n",
    "saved_model_fnames = os.listdir(save_dir)\n",
    "\n",
    "datetime_val = datetime.datetime.now().strftime(\"%y%m%d_%H%M%S\")\n",
    "model_fname = f'{datetime_val}_PPO.zip'\n",
    "\n",
    "save_fname = f'./models/{model_fname}'\n",
    "model.save(save_fname)\n",
    "print(f'Saved model to: {model_fname}')"
   ]
  },
  {
   "attachments": {},
   "cell_type": "markdown",
   "metadata": {},
   "source": [
    "### Show just trained model"
   ]
  },
  {
   "cell_type": "code",
   "execution_count": null,
   "metadata": {},
   "outputs": [],
   "source": [
    "env = gym.make(\"CatBot-v0\", meshcat=meshcat, observations=observations, time_limit=time_limit)\n",
    "env.simulator.set_target_realtime_rate(1.0)\n",
    "\n",
    "obs = env.reset()\n",
    "for i in range(500):\n",
    "    action, _state = model.predict(obs, deterministic=True)\n",
    "    obs, reward, done, info = env.step(action)\n",
    "    env.render()\n",
    "    if done:\n",
    "        obs = env.reset()"
   ]
  },
  {
   "attachments": {},
   "cell_type": "markdown",
   "metadata": {},
   "source": [
    "# Show pretrained model"
   ]
  },
  {
   "cell_type": "code",
   "execution_count": 16,
   "metadata": {},
   "outputs": [
    {
     "name": "stdout",
     "output_type": "stream",
     "text": [
      "Reward:  0.0\n",
      "Reward:  0.0\n",
      "Reward:  0.0\n",
      "Reward:  0.0\n",
      "Reward:  0.0\n",
      "Reward:  0.0\n",
      "Reward:  4500.0\n",
      "Reward:  0.0\n",
      "Reward:  0.0\n",
      "Reward:  0.0\n",
      "Reward:  0.0\n",
      "Reward:  0.0\n",
      "Reward:  0.0\n",
      "Reward:  0.0\n",
      "Reward:  0.0\n",
      "Reward:  0.0\n",
      "Reward:  1800.0\n",
      "Reward:  0.0\n",
      "Reward:  3900.0\n",
      "Reward:  0.0\n",
      "Reward:  0.0\n",
      "Reward:  0.0\n",
      "Reward:  3200.0\n",
      "Reward:  0.0\n",
      "Reward:  4000.0\n",
      "Reward:  0.0\n",
      "Reward:  0.0\n",
      "Reward:  2000.0\n",
      "Reward:  0.0\n",
      "Reward:  200.0\n",
      "Reward:  0.0\n",
      "Reward:  0.0\n",
      "Reward:  2300.0\n",
      "Reward:  0.0\n",
      "Reward:  300.0\n",
      "Reward:  0.0\n",
      "Reward:  0.0\n",
      "Reward:  0.0\n",
      "Reward:  0.0\n",
      "Reward:  0.0\n",
      "Reward:  0.0\n",
      "Reward:  0.0\n",
      "Reward:  200.0\n",
      "Reward:  3300.0\n",
      "Reward:  1700.0\n",
      "Reward:  0.0\n",
      "Reward:  4500.0\n",
      "Reward:  0.0\n",
      "Reward:  900.0\n",
      "Mean reward:  669.3877551020408\n"
     ]
    }
   ],
   "source": [
    "# model_zip_fname = \"./checkpoints/230510_125444_PPO_P0_C10_390000_steps.zip\"\n",
    "# model_zip_fname = \"./checkpoints/230510_131356_PPO_P0_C10_400000_steps.zip\"\n",
    "# model_zip_fname = \"./checkpoints/230510_132402_PPO_P0_C11_300000_steps.zip\"\n",
    "# model_zip_fname = \"./checkpoints/230510_134537_PPO_P0_C12_30000_steps.zip\"\n",
    "# model_zip_fname = \"./checkpoints/230510_135133_PPO_P0_C12_400000_steps.zip\"\n",
    "# model_zip_fname = \"./checkpoints/230510_140638_PPO_P0_C12_20000_steps.zip\"\n",
    "# model_zip_fname = \"./checkpoints/230510_142001_PPO_P0_C12_sde_800000_steps.zip\"\n",
    "# model_zip_fname = \"./checkpoints/230510_160054_PPO_P0_C13_sde_20000_steps.zip\"\n",
    "# model_zip_fname = \"./checkpoints/230510_160600_PPO_P0_C13_sde_800000_steps.zip\"\n",
    "# model_zip_fname = \"./checkpoints/230510_171803_PPO_P0_C13_SAC_60000_steps.zip\"\n",
    "# model_zip_fname = \"./checkpoints/230510_171803_PPO_P0_C13_SAC_800000_steps.zip\"\n",
    "# model_zip_fname = \"./checkpoints/230510_170053_PPO_P1_C13_sde_800000_steps.zip\"\n",
    "# model_zip_fname = \"./checkpoints/230510_170053_PPO_P1_C13_sde_800000_steps.zip\"\n",
    "# model_zip_fname = \"./checkpoints/230510_181232_SAC_P0_C13_1600000_steps.zip\"\n",
    "# model_zip_fname = \"./checkpoints/230510_230410_SAC_P1_C13_Half_init_1700000_steps.zip\"\n",
    "model_zip_fname = \"./models/PPO_800000_good.zip\"\n",
    "# model_zip_fname = \"./models/SAC_800000_good.zip\"\n",
    "observations = \"state\"\n",
    "time_limit = 8\n",
    "\n",
    "env = gym.make(\"CatBot-v0\", meshcat=meshcat, observations=observations, time_limit=time_limit)\n",
    "env.simulator.set_target_realtime_rate(2)\n",
    "\n",
    "# sac = True\n",
    "sac = False\n",
    "if sac:\n",
    "    model = SAC.load(model_zip_fname, env)\n",
    "else:\n",
    "    model = PPO.load(model_zip_fname, env)\n",
    "\n",
    "obs = env.reset()\n",
    "cum_reward = 0\n",
    "reward_list = []\n",
    "for i in range(4000):\n",
    "    action, _state = model.predict(obs, deterministic=True)\n",
    "    obs, reward, done, info = env.step(action)\n",
    "    cum_reward += reward\n",
    "    if done:\n",
    "        print('Reward: ', cum_reward)\n",
    "        reward_list.append(cum_reward)  \n",
    "        cum_reward = 0\n",
    "    env.render()\n",
    "    if done:\n",
    "        obs = env.reset()\n",
    "print('Mean reward: ', np.mean(np.array(reward_list)))"
   ]
  },
  {
   "cell_type": "code",
   "execution_count": null,
   "metadata": {},
   "outputs": [],
   "source": []
  }
 ],
 "metadata": {
  "kernelspec": {
   "display_name": "68210",
   "language": "python",
   "name": "python3"
  },
  "language_info": {
   "codemirror_mode": {
    "name": "ipython",
    "version": 3
   },
   "file_extension": ".py",
   "mimetype": "text/x-python",
   "name": "python",
   "nbconvert_exporter": "python",
   "pygments_lexer": "ipython3",
   "version": "3.10.11"
  },
  "orig_nbformat": 4
 },
 "nbformat": 4,
 "nbformat_minor": 2
}
