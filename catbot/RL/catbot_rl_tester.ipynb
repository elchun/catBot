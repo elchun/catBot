{
 "cells": [
  {
   "attachments": {},
   "cell_type": "markdown",
   "metadata": {},
   "source": [
    "# Test the training procedure of CatBot\n",
    "Based on: \n",
    "https://github.com/RussTedrake/manipulation/blob/master/rl/box_flipup.ipynb\n",
    "\n",
    "Some insight into tensorboard plots:\n",
    "https://medium.com/aureliantactics/understanding-ppo-plots-in-tensorboard-cbc3199b9ba2\n",
    "\n",
    "Use tensorboard --logdir \\(LOGDIR\\)"
   ]
  },
  {
   "cell_type": "code",
   "execution_count": 1,
   "metadata": {},
   "outputs": [],
   "source": [
    "import os\n",
    "import gym\n",
    "import numpy as np\n",
    "import datetime\n",
    "import torch\n",
    "from pydrake.all import StartMeshcat\n",
    "\n",
    "from catbot.RL.catbot_rl_env import CatBotEnv\n",
    "\n",
    "from psutil import cpu_count\n",
    "\n",
    "num_cpu = int(cpu_count() / 2)\n",
    "\n",
    "# Optional imports (these are heavy dependencies for just this one notebook)\n",
    "sb3_available = False\n",
    "try:\n",
    "    from stable_baselines3 import PPO, SAC\n",
    "    from stable_baselines3.common.vec_env import SubprocVecEnv\n",
    "    from stable_baselines3.common.env_util import make_vec_env\n",
    "    from stable_baselines3.common.monitor import Monitor\n",
    "    from stable_baselines3.common.callbacks import CheckpointCallback\n",
    "\n",
    "    sb3_available = True\n",
    "except ImportError:\n",
    "    print(\"stable_baselines3 not found\")\n",
    "    print(\"Consider 'pip3 install stable_baselines3'.\")\n"
   ]
  },
  {
   "cell_type": "code",
   "execution_count": 2,
   "metadata": {},
   "outputs": [
    {
     "name": "stderr",
     "output_type": "stream",
     "text": [
      "INFO:drake:Meshcat listening for connections at http://localhost:7000\n"
     ]
    }
   ],
   "source": [
    "meshcat = StartMeshcat()\n",
    "\n",
    "gym.envs.register(\n",
    "    id=\"CatBot-v0\", entry_point=\"catbot.RL.catbot_rl_env:CatBotEnv\"\n",
    ")"
   ]
  },
  {
   "cell_type": "code",
   "execution_count": null,
   "metadata": {},
   "outputs": [
    {
     "ename": "KeyboardInterrupt",
     "evalue": "",
     "output_type": "error",
     "traceback": [
      "\u001b[0;31m---------------------------------------------------------------------------\u001b[0m",
      "\u001b[0;31mKeyboardInterrupt\u001b[0m                         Traceback (most recent call last)",
      "Cell \u001b[0;32mIn[3], line 5\u001b[0m\n\u001b[1;32m      2\u001b[0m time_limit \u001b[39m=\u001b[39m \u001b[39m4\u001b[39m\n\u001b[1;32m      3\u001b[0m total_timesteps \u001b[39m=\u001b[39m \u001b[39m10000\u001b[39m\n\u001b[0;32m----> 5\u001b[0m env \u001b[39m=\u001b[39m make_vec_env(\n\u001b[1;32m      6\u001b[0m     CatBotEnv,\n\u001b[1;32m      7\u001b[0m     n_envs\u001b[39m=\u001b[39;49m\u001b[39m8\u001b[39;49m,  \u001b[39m# Was num_cpu\u001b[39;49;00m\n\u001b[1;32m      8\u001b[0m     seed\u001b[39m=\u001b[39;49m\u001b[39m0\u001b[39;49m,\n\u001b[1;32m      9\u001b[0m     vec_env_cls\u001b[39m=\u001b[39;49mSubprocVecEnv,\n\u001b[1;32m     10\u001b[0m     env_kwargs\u001b[39m=\u001b[39;49m{\n\u001b[1;32m     11\u001b[0m         \u001b[39m\"\u001b[39;49m\u001b[39mobservations\u001b[39;49m\u001b[39m\"\u001b[39;49m: observations,\n\u001b[1;32m     12\u001b[0m         \u001b[39m\"\u001b[39;49m\u001b[39mtime_limit\u001b[39;49m\u001b[39m\"\u001b[39;49m: time_limit,\n\u001b[1;32m     13\u001b[0m     },\n\u001b[1;32m     14\u001b[0m )\n\u001b[1;32m     16\u001b[0m checkpoint_callback \u001b[39m=\u001b[39m CheckpointCallback(\n\u001b[1;32m     17\u001b[0m     save_freq\u001b[39m=\u001b[39m\u001b[39m1000\u001b[39m,\n\u001b[1;32m     18\u001b[0m     save_path\u001b[39m=\u001b[39m\u001b[39m'\u001b[39m\u001b[39m./checkpoints/\u001b[39m\u001b[39m'\u001b[39m,\n\u001b[0;32m   (...)\u001b[0m\n\u001b[1;32m     21\u001b[0m     save_vecnormalize\u001b[39m=\u001b[39m\u001b[39mTrue\u001b[39;00m,\n\u001b[1;32m     22\u001b[0m )\n\u001b[1;32m     24\u001b[0m use_pretrained_model \u001b[39m=\u001b[39m \u001b[39mFalse\u001b[39;00m \n",
      "File \u001b[0;32m~/miniconda3/envs/68210/lib/python3.10/site-packages/stable_baselines3/common/env_util.py:108\u001b[0m, in \u001b[0;36mmake_vec_env\u001b[0;34m(env_id, n_envs, seed, start_index, monitor_dir, wrapper_class, env_kwargs, vec_env_cls, vec_env_kwargs, monitor_kwargs, wrapper_kwargs)\u001b[0m\n\u001b[1;32m    104\u001b[0m \u001b[39mif\u001b[39;00m vec_env_cls \u001b[39mis\u001b[39;00m \u001b[39mNone\u001b[39;00m:\n\u001b[1;32m    105\u001b[0m     \u001b[39m# Default: use a DummyVecEnv\u001b[39;00m\n\u001b[1;32m    106\u001b[0m     vec_env_cls \u001b[39m=\u001b[39m DummyVecEnv\n\u001b[0;32m--> 108\u001b[0m \u001b[39mreturn\u001b[39;00m vec_env_cls([make_env(i \u001b[39m+\u001b[39;49m start_index) \u001b[39mfor\u001b[39;49;00m i \u001b[39min\u001b[39;49;00m \u001b[39mrange\u001b[39;49m(n_envs)], \u001b[39m*\u001b[39;49m\u001b[39m*\u001b[39;49mvec_env_kwargs)\n",
      "File \u001b[0;32m~/miniconda3/envs/68210/lib/python3.10/site-packages/stable_baselines3/common/vec_env/subproc_vec_env.py:112\u001b[0m, in \u001b[0;36mSubprocVecEnv.__init__\u001b[0;34m(self, env_fns, start_method)\u001b[0m\n\u001b[1;32m    109\u001b[0m     work_remote\u001b[39m.\u001b[39mclose()\n\u001b[1;32m    111\u001b[0m \u001b[39mself\u001b[39m\u001b[39m.\u001b[39mremotes[\u001b[39m0\u001b[39m]\u001b[39m.\u001b[39msend((\u001b[39m\"\u001b[39m\u001b[39mget_spaces\u001b[39m\u001b[39m\"\u001b[39m, \u001b[39mNone\u001b[39;00m))\n\u001b[0;32m--> 112\u001b[0m observation_space, action_space \u001b[39m=\u001b[39m \u001b[39mself\u001b[39;49m\u001b[39m.\u001b[39;49mremotes[\u001b[39m0\u001b[39;49m]\u001b[39m.\u001b[39;49mrecv()\n\u001b[1;32m    113\u001b[0m VecEnv\u001b[39m.\u001b[39m\u001b[39m__init__\u001b[39m(\u001b[39mself\u001b[39m, \u001b[39mlen\u001b[39m(env_fns), observation_space, action_space)\n",
      "File \u001b[0;32m~/miniconda3/envs/68210/lib/python3.10/multiprocessing/connection.py:250\u001b[0m, in \u001b[0;36m_ConnectionBase.recv\u001b[0;34m(self)\u001b[0m\n\u001b[1;32m    248\u001b[0m \u001b[39mself\u001b[39m\u001b[39m.\u001b[39m_check_closed()\n\u001b[1;32m    249\u001b[0m \u001b[39mself\u001b[39m\u001b[39m.\u001b[39m_check_readable()\n\u001b[0;32m--> 250\u001b[0m buf \u001b[39m=\u001b[39m \u001b[39mself\u001b[39;49m\u001b[39m.\u001b[39;49m_recv_bytes()\n\u001b[1;32m    251\u001b[0m \u001b[39mreturn\u001b[39;00m _ForkingPickler\u001b[39m.\u001b[39mloads(buf\u001b[39m.\u001b[39mgetbuffer())\n",
      "File \u001b[0;32m~/miniconda3/envs/68210/lib/python3.10/multiprocessing/connection.py:414\u001b[0m, in \u001b[0;36mConnection._recv_bytes\u001b[0;34m(self, maxsize)\u001b[0m\n\u001b[1;32m    413\u001b[0m \u001b[39mdef\u001b[39;00m \u001b[39m_recv_bytes\u001b[39m(\u001b[39mself\u001b[39m, maxsize\u001b[39m=\u001b[39m\u001b[39mNone\u001b[39;00m):\n\u001b[0;32m--> 414\u001b[0m     buf \u001b[39m=\u001b[39m \u001b[39mself\u001b[39;49m\u001b[39m.\u001b[39;49m_recv(\u001b[39m4\u001b[39;49m)\n\u001b[1;32m    415\u001b[0m     size, \u001b[39m=\u001b[39m struct\u001b[39m.\u001b[39munpack(\u001b[39m\"\u001b[39m\u001b[39m!i\u001b[39m\u001b[39m\"\u001b[39m, buf\u001b[39m.\u001b[39mgetvalue())\n\u001b[1;32m    416\u001b[0m     \u001b[39mif\u001b[39;00m size \u001b[39m==\u001b[39m \u001b[39m-\u001b[39m\u001b[39m1\u001b[39m:\n",
      "File \u001b[0;32m~/miniconda3/envs/68210/lib/python3.10/multiprocessing/connection.py:379\u001b[0m, in \u001b[0;36mConnection._recv\u001b[0;34m(self, size, read)\u001b[0m\n\u001b[1;32m    377\u001b[0m remaining \u001b[39m=\u001b[39m size\n\u001b[1;32m    378\u001b[0m \u001b[39mwhile\u001b[39;00m remaining \u001b[39m>\u001b[39m \u001b[39m0\u001b[39m:\n\u001b[0;32m--> 379\u001b[0m     chunk \u001b[39m=\u001b[39m read(handle, remaining)\n\u001b[1;32m    380\u001b[0m     n \u001b[39m=\u001b[39m \u001b[39mlen\u001b[39m(chunk)\n\u001b[1;32m    381\u001b[0m     \u001b[39mif\u001b[39;00m n \u001b[39m==\u001b[39m \u001b[39m0\u001b[39m:\n",
      "\u001b[0;31mKeyboardInterrupt\u001b[0m: "
     ]
    },
    {
     "name": "stderr",
     "output_type": "stream",
     "text": [
      "/home/elchun/miniconda3/envs/68210/lib/python3.10/site-packages/gym/spaces/box.py:73: UserWarning: \u001b[33mWARN: Box bound precision lowered by casting to float32\u001b[0m\n",
      "  logger.warn(\n",
      "/home/elchun/miniconda3/envs/68210/lib/python3.10/site-packages/gym/spaces/box.py:73: UserWarning: \u001b[33mWARN: Box bound precision lowered by casting to float32\u001b[0m\n",
      "  logger.warn(\n",
      "/home/elchun/miniconda3/envs/68210/lib/python3.10/site-packages/gym/spaces/box.py:73: UserWarning: \u001b[33mWARN: Box bound precision lowered by casting to float32\u001b[0m\n",
      "  logger.warn(\n",
      "/home/elchun/miniconda3/envs/68210/lib/python3.10/site-packages/gym/spaces/box.py:73: UserWarning: \u001b[33mWARN: Box bound precision lowered by casting to float32\u001b[0m\n",
      "  logger.warn(\n",
      "/home/elchun/miniconda3/envs/68210/lib/python3.10/site-packages/gym/spaces/box.py:73: UserWarning: \u001b[33mWARN: Box bound precision lowered by casting to float32\u001b[0m\n",
      "  logger.warn(\n",
      "/home/elchun/miniconda3/envs/68210/lib/python3.10/site-packages/gym/spaces/box.py:73: UserWarning: \u001b[33mWARN: Box bound precision lowered by casting to float32\u001b[0m\n",
      "  logger.warn(\n",
      "/home/elchun/miniconda3/envs/68210/lib/python3.10/site-packages/gym/spaces/box.py:73: UserWarning: \u001b[33mWARN: Box bound precision lowered by casting to float32\u001b[0m\n",
      "  logger.warn(\n",
      "/home/elchun/miniconda3/envs/68210/lib/python3.10/site-packages/gym/spaces/box.py:73: UserWarning: \u001b[33mWARN: Box bound precision lowered by casting to float32\u001b[0m\n",
      "  logger.warn(\n"
     ]
    }
   ],
   "source": [
    "observations = \"state\"\n",
    "time_limit = 4\n",
    "total_timesteps = 10000\n",
    "\n",
    "env = make_vec_env(\n",
    "    CatBotEnv,\n",
    "    n_envs=8,  # Was num_cpu\n",
    "    seed=0,\n",
    "    vec_env_cls=SubprocVecEnv,\n",
    "    env_kwargs={\n",
    "        \"observations\": observations,\n",
    "        \"time_limit\": time_limit,\n",
    "    },\n",
    ")\n",
    "\n",
    "checkpoint_callback = CheckpointCallback(\n",
    "    save_freq=1000,\n",
    "    save_path='./checkpoints/',\n",
    "    name_prefix='PPO_CHECKPOINT_TEST',\n",
    "    save_replay_buffer=True,\n",
    "    save_vecnormalize=True,\n",
    ")\n",
    "\n",
    "use_pretrained_model = False \n",
    "model_zip_fname = \"./models/PPO_C6_0254.zip\"\n",
    "sac = False\n",
    "print('starting training')\n",
    "if sac:\n",
    "    model = SAC(\n",
    "        \"MlpPolicy\",\n",
    "        # wrapped_env,\n",
    "        env,\n",
    "        verbose=0,\n",
    "        batch_size=32,\n",
    "        tensorboard_log=\"./ppo_cat_bot_logs\",\n",
    "        seed=0)\n",
    "    print('SAC')\n",
    "    model.learn(total_timesteps=total_timesteps, progress_bar=True, callback=checkpoint_callback)\n",
    "else:\n",
    "    print('PPO')\n",
    "    if use_pretrained_model:\n",
    "        model = PPO.load(model_zip_fname, env)\n",
    "        model.learn(total_timesteps=total_timesteps, progress_bar=True, callback=checkpoint_callback)\n",
    "    else:\n",
    "        model = PPO(\n",
    "            \"MlpPolicy\",\n",
    "            env,\n",
    "            # env,\n",
    "            verbose=0,\n",
    "            n_steps=4,\n",
    "            n_epochs=2,\n",
    "            batch_size=32,\n",
    "            tensorboard_log=\"./ppo_cat_bot_logs\")\n",
    "        model.learn(total_timesteps=total_timesteps, progress_bar=True, callback=checkpoint_callback)\n"
   ]
  },
  {
   "attachments": {},
   "cell_type": "markdown",
   "metadata": {},
   "source": [
    "## Save Model"
   ]
  },
  {
   "cell_type": "code",
   "execution_count": null,
   "metadata": {},
   "outputs": [
    {
     "name": "stdout",
     "output_type": "stream",
     "text": [
      "Saved model to: 230510_030745_PPO.zip\n"
     ]
    }
   ],
   "source": [
    "save_dir = './models'\n",
    "saved_model_fnames = os.listdir(save_dir)\n",
    "\n",
    "datetime_val = datetime.datetime.now().strftime(\"%y%m%d_%H%M%S\")\n",
    "model_fname = f'{datetime_val}_PPO.zip'\n",
    "\n",
    "save_fname = f'./models/{model_fname}'\n",
    "model.save(save_fname)\n",
    "print(f'Saved model to: {model_fname}')"
   ]
  },
  {
   "attachments": {},
   "cell_type": "markdown",
   "metadata": {},
   "source": [
    "### Show just trained model"
   ]
  },
  {
   "cell_type": "code",
   "execution_count": null,
   "metadata": {},
   "outputs": [],
   "source": [
    "env = gym.make(\"CatBot-v0\", meshcat=meshcat, observations=observations, time_limit=time_limit)\n",
    "env.simulator.set_target_realtime_rate(1.0)\n",
    "\n",
    "obs = env.reset()\n",
    "for i in range(500):\n",
    "    action, _state = model.predict(obs, deterministic=True)\n",
    "    obs, reward, done, info = env.step(action)\n",
    "    env.render()\n",
    "    if done:\n",
    "        obs = env.reset()"
   ]
  },
  {
   "attachments": {},
   "cell_type": "markdown",
   "metadata": {},
   "source": [
    "# Show pretrained model"
   ]
  },
  {
   "cell_type": "code",
   "execution_count": 3,
   "metadata": {},
   "outputs": [
    {
     "name": "stderr",
     "output_type": "stream",
     "text": [
      "/home/elchun/miniconda3/envs/68210/lib/python3.10/site-packages/gym/spaces/box.py:73: UserWarning: \u001b[33mWARN: Box bound precision lowered by casting to float32\u001b[0m\n",
      "  logger.warn(\n"
     ]
    },
    {
     "name": "stdout",
     "output_type": "stream",
     "text": [
      "Reward:  3300.0\n",
      "Reward:  2700.0\n",
      "Reward:  3900.0\n",
      "Reward:  1700.0\n",
      "Reward:  3900.0\n",
      "Reward:  2800.0\n",
      "Reward:  4200.0\n",
      "Reward:  2700.0\n",
      "Reward:  3600.0\n",
      "Reward:  1800.0\n",
      "Reward:  1800.0\n",
      "Reward:  3800.0\n",
      "Reward:  2100.0\n",
      "Reward:  1900.0\n",
      "Reward:  3400.0\n",
      "Reward:  3800.0\n",
      "Reward:  3000.0\n",
      "Reward:  2000.0\n",
      "Reward:  3200.0\n",
      "Reward:  2900.0\n",
      "Reward:  2900.0\n",
      "Reward:  2400.0\n",
      "Reward:  4000.0\n",
      "Reward:  3200.0\n",
      "Reward:  3700.0\n",
      "Reward:  3600.0\n",
      "Reward:  1900.0\n",
      "Reward:  2500.0\n",
      "Reward:  2400.0\n",
      "Reward:  4000.0\n",
      "Reward:  4300.0\n",
      "Reward:  3500.0\n",
      "Reward:  4400.0\n",
      "Reward:  3400.0\n",
      "Reward:  4400.0\n",
      "Reward:  2000.0\n",
      "Reward:  3700.0\n",
      "Reward:  2100.0\n",
      "Reward:  2300.0\n",
      "Reward:  2000.0\n",
      "Reward:  2200.0\n",
      "Reward:  2700.0\n",
      "Reward:  3000.0\n",
      "Reward:  4000.0\n",
      "Reward:  3100.0\n",
      "Reward:  1500.0\n",
      "Reward:  4500.0\n",
      "Reward:  4000.0\n",
      "Reward:  3100.0\n",
      "Mean reward:  3046.938775510204\n"
     ]
    }
   ],
   "source": [
    "# model_zip_fname = \"./checkpoints/230510_125444_PPO_P0_C10_390000_steps.zip\"\n",
    "# model_zip_fname = \"./checkpoints/230510_131356_PPO_P0_C10_400000_steps.zip\"\n",
    "# model_zip_fname = \"./checkpoints/230510_132402_PPO_P0_C11_300000_steps.zip\"\n",
    "# model_zip_fname = \"./checkpoints/230510_134537_PPO_P0_C12_30000_steps.zip\"\n",
    "# model_zip_fname = \"./checkpoints/230510_135133_PPO_P0_C12_400000_steps.zip\"\n",
    "# model_zip_fname = \"./checkpoints/230510_140638_PPO_P0_C12_20000_steps.zip\"\n",
    "# model_zip_fname = \"./checkpoints/230510_142001_PPO_P0_C12_sde_800000_steps.zip\"\n",
    "# model_zip_fname = \"./checkpoints/230510_160054_PPO_P0_C13_sde_20000_steps.zip\"\n",
    "# model_zip_fname = \"./checkpoints/230510_160600_PPO_P0_C13_sde_800000_steps.zip\"\n",
    "# model_zip_fname = \"./checkpoints/230510_171803_PPO_P0_C13_SAC_60000_steps.zip\"\n",
    "# model_zip_fname = \"./checkpoints/230510_171803_PPO_P0_C13_SAC_800000_steps.zip\"\n",
    "# model_zip_fname = \"./checkpoints/230510_170053_PPO_P1_C13_sde_800000_steps.zip\"\n",
    "# model_zip_fname = \"./checkpoints/230510_170053_PPO_P1_C13_sde_800000_steps.zip\"\n",
    "# model_zip_fname = \"./checkpoints/230510_181232_SAC_P0_C13_1600000_steps.zip\"\n",
    "# model_zip_fname = \"./checkpoints/230510_230410_SAC_P1_C13_Half_init_10000000_steps.zip\"\n",
    "model_zip_fname = \"./checkpoints/230511_153116_SAC_P1_C13_Half_init_round2_13780000_steps.zip\"\n",
    "# model_zip_fname = \"./models/PPO_800000_good.zip\"\n",
    "# model_zip_fname = \"./models/SAC_800000_good.zip\"\n",
    "# model_zip_fname = \"./models/SAC_10000000.zip\"\n",
    "observations = \"state\"\n",
    "time_limit = 8\n",
    "\n",
    "env = gym.make(\"CatBot-v0\", meshcat=meshcat, observations=observations, time_limit=time_limit)\n",
    "env.simulator.set_target_realtime_rate(4)\n",
    "\n",
    "sac = True\n",
    "# sac = False\n",
    "if sac:\n",
    "    model = SAC.load(model_zip_fname, env)\n",
    "else:\n",
    "    model = PPO.load(model_zip_fname, env)\n",
    "\n",
    "obs = env.reset()\n",
    "cum_reward = 0\n",
    "reward_list = []\n",
    "for i in range(4000):\n",
    "    action, _state = model.predict(obs, deterministic=True)\n",
    "    obs, reward, done, info = env.step(action)\n",
    "    cum_reward += reward\n",
    "    if done:\n",
    "        print('Reward: ', cum_reward)\n",
    "        reward_list.append(cum_reward)  \n",
    "        cum_reward = 0\n",
    "    env.render()\n",
    "    if done:\n",
    "        obs = env.reset()\n",
    "print('Mean reward: ', np.mean(np.array(reward_list)))"
   ]
  },
  {
   "cell_type": "code",
   "execution_count": null,
   "metadata": {},
   "outputs": [],
   "source": []
  }
 ],
 "metadata": {
  "kernelspec": {
   "display_name": "68210",
   "language": "python",
   "name": "python3"
  },
  "language_info": {
   "codemirror_mode": {
    "name": "ipython",
    "version": 3
   },
   "file_extension": ".py",
   "mimetype": "text/x-python",
   "name": "python",
   "nbconvert_exporter": "python",
   "pygments_lexer": "ipython3",
   "version": "3.10.11"
  },
  "orig_nbformat": 4
 },
 "nbformat": 4,
 "nbformat_minor": 2
}
