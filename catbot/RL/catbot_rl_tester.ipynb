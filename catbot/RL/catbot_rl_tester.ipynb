{
 "cells": [
  {
   "attachments": {},
   "cell_type": "markdown",
   "metadata": {},
   "source": [
    "# Test the training procedure of CatBot\n",
    "Based on: \n",
    "https://github.com/RussTedrake/manipulation/blob/master/rl/box_flipup.ipynb\n",
    "\n",
    "Some insight into tensorboard plots:\n",
    "https://medium.com/aureliantactics/understanding-ppo-plots-in-tensorboard-cbc3199b9ba2\n",
    "\n",
    "Use tensorboard --logdir \\(LOGDIR\\)"
   ]
  },
  {
   "cell_type": "code",
   "execution_count": 1,
   "metadata": {},
   "outputs": [],
   "source": [
    "import os\n",
    "import gym\n",
    "import numpy as np\n",
    "import torch\n",
    "from pydrake.all import StartMeshcat\n",
    "\n",
    "from catbot.RL.catbot_rl_env import CatBotEnv\n",
    "\n",
    "from psutil import cpu_count\n",
    "\n",
    "num_cpu = int(cpu_count() / 2)\n",
    "\n",
    "# Optional imports (these are heavy dependencies for just this one notebook)\n",
    "sb3_available = False\n",
    "try:\n",
    "    from stable_baselines3 import PPO\n",
    "    from stable_baselines3.common.vec_env import SubprocVecEnv\n",
    "    from stable_baselines3.common.env_util import make_vec_env\n",
    "    from stable_baselines3.common.monitor import Monitor\n",
    "\n",
    "    sb3_available = True\n",
    "except ImportError:\n",
    "    print(\"stable_baselines3 not found\")\n",
    "    print(\"Consider 'pip3 install stable_baselines3'.\")\n"
   ]
  },
  {
   "cell_type": "code",
   "execution_count": 2,
   "metadata": {},
   "outputs": [
    {
     "name": "stderr",
     "output_type": "stream",
     "text": [
      "INFO:drake:Meshcat listening for connections at http://localhost:7000\n"
     ]
    }
   ],
   "source": [
    "meshcat = StartMeshcat()\n",
    "\n",
    "gym.envs.register(\n",
    "    id=\"CatBot-v0\", entry_point=\"catbot.RL.catbot_rl_env:CatBotEnv\"\n",
    ")"
   ]
  },
  {
   "cell_type": "code",
   "execution_count": 5,
   "metadata": {},
   "outputs": [
    {
     "data": {
      "application/vnd.jupyter.widget-view+json": {
       "model_id": "426d6d1010394ef99e83e809dac636b9",
       "version_major": 2,
       "version_minor": 0
      },
      "text/plain": [
       "Output()"
      ]
     },
     "metadata": {},
     "output_type": "display_data"
    }
   ],
   "source": [
    "observations = \"state\"\n",
    "time_limit = 2\n",
    "\n",
    "env = make_vec_env(\n",
    "    CatBotEnv,\n",
    "    n_envs=8,  # Was num_cpu\n",
    "    seed=0,\n",
    "    vec_env_cls=SubprocVecEnv,\n",
    "    env_kwargs={\n",
    "        \"observations\": observations,\n",
    "        \"time_limit\": time_limit,\n",
    "    },\n",
    ")\n",
    "\n",
    "# wrapped_env = Monitor(env)\n",
    "\n",
    "use_pretrained_model = False\n",
    "if use_pretrained_model:\n",
    "    pass\n",
    "else:\n",
    "    model = PPO(\n",
    "        \"MlpPolicy\",\n",
    "        # wrapped_env,\n",
    "        env,\n",
    "        verbose=0,\n",
    "        n_steps=4,\n",
    "        n_epochs=2,\n",
    "        batch_size=32,\n",
    "        tensorboard_log=\"./ppo_cat_bot_logs\")\n",
    "    model.learn(total_timesteps=50000, progress_bar=True)\n",
    "\n",
    "env = gym.make(\"CatBot-v0\", meshcat=meshcat, observations=observations, time_limit=time_limit)\n",
    "\n",
    "env.simulator.set_target_realtime_rate(1.0)"
   ]
  },
  {
   "cell_type": "code",
   "execution_count": 4,
   "metadata": {},
   "outputs": [
    {
     "ename": "KeyboardInterrupt",
     "evalue": "",
     "output_type": "error",
     "traceback": [
      "\u001b[0;31m---------------------------------------------------------------------------\u001b[0m",
      "\u001b[0;31mKeyboardInterrupt\u001b[0m                         Traceback (most recent call last)",
      "Cell \u001b[0;32mIn[4], line 4\u001b[0m\n\u001b[1;32m      2\u001b[0m \u001b[39mfor\u001b[39;00m i \u001b[39min\u001b[39;00m \u001b[39mrange\u001b[39m(\u001b[39m500\u001b[39m):\n\u001b[1;32m      3\u001b[0m     action, _state \u001b[39m=\u001b[39m model\u001b[39m.\u001b[39mpredict(obs, deterministic\u001b[39m=\u001b[39m\u001b[39mTrue\u001b[39;00m)\n\u001b[0;32m----> 4\u001b[0m     obs, reward, done, info \u001b[39m=\u001b[39m env\u001b[39m.\u001b[39;49mstep(action)\n\u001b[1;32m      5\u001b[0m     env\u001b[39m.\u001b[39mrender()\n\u001b[1;32m      6\u001b[0m     \u001b[39mif\u001b[39;00m done:\n",
      "File \u001b[0;32m~/miniconda3/envs/68210/lib/python3.10/site-packages/gym/wrappers/order_enforcing.py:11\u001b[0m, in \u001b[0;36mOrderEnforcing.step\u001b[0;34m(self, action)\u001b[0m\n\u001b[1;32m      9\u001b[0m \u001b[39mdef\u001b[39;00m \u001b[39mstep\u001b[39m(\u001b[39mself\u001b[39m, action):\n\u001b[1;32m     10\u001b[0m     \u001b[39massert\u001b[39;00m \u001b[39mself\u001b[39m\u001b[39m.\u001b[39m_has_reset, \u001b[39m\"\u001b[39m\u001b[39mCannot call env.step() before calling reset()\u001b[39m\u001b[39m\"\u001b[39m\n\u001b[0;32m---> 11\u001b[0m     observation, reward, done, info \u001b[39m=\u001b[39m \u001b[39mself\u001b[39;49m\u001b[39m.\u001b[39;49menv\u001b[39m.\u001b[39;49mstep(action)\n\u001b[1;32m     12\u001b[0m     \u001b[39mreturn\u001b[39;00m observation, reward, done, info\n",
      "File \u001b[0;32m~/Documents/682xx_final_project/catBot/catbot/utils/drake_gym.py:223\u001b[0m, in \u001b[0;36mDrakeGymEnv.step\u001b[0;34m(self, action)\u001b[0m\n\u001b[1;32m    221\u001b[0m truncated \u001b[39m=\u001b[39m \u001b[39mFalse\u001b[39;00m\n\u001b[1;32m    222\u001b[0m \u001b[39mtry\u001b[39;00m:\n\u001b[0;32m--> 223\u001b[0m     status \u001b[39m=\u001b[39m \u001b[39mself\u001b[39;49m\u001b[39m.\u001b[39;49msimulator\u001b[39m.\u001b[39;49mAdvanceTo(time \u001b[39m+\u001b[39;49m \u001b[39mself\u001b[39;49m\u001b[39m.\u001b[39;49mtime_step)\n\u001b[1;32m    224\u001b[0m \u001b[39mexcept\u001b[39;00m \u001b[39mRuntimeError\u001b[39;00m \u001b[39mas\u001b[39;00m e:\n\u001b[1;32m    225\u001b[0m     \u001b[39mif\u001b[39;00m (\n\u001b[1;32m    226\u001b[0m         \u001b[39m\"\u001b[39m\u001b[39mMultibodyPlant\u001b[39m\u001b[39m'\u001b[39m\u001b[39ms discrete update solver failed to converge\u001b[39m\u001b[39m\"\u001b[39m\n\u001b[1;32m    227\u001b[0m         \u001b[39mnot\u001b[39;00m \u001b[39min\u001b[39;00m e\u001b[39m.\u001b[39margs[\u001b[39m0\u001b[39m]\n\u001b[1;32m    228\u001b[0m     ):\n",
      "File \u001b[0;32m~/Documents/682xx_final_project/catBot/catbot/RL/catbot_rl_env.py:204\u001b[0m, in \u001b[0;36mmake_catbot_env.<locals>.monitor\u001b[0;34m(context)\u001b[0m\n\u001b[1;32m    201\u001b[0m diagram \u001b[39m=\u001b[39m builder\u001b[39m.\u001b[39mBuild()\n\u001b[1;32m    202\u001b[0m simulator \u001b[39m=\u001b[39m Simulator(diagram)\n\u001b[0;32m--> 204\u001b[0m \u001b[39mdef\u001b[39;00m \u001b[39mmonitor\u001b[39m(context):\n\u001b[1;32m    205\u001b[0m     \u001b[39mif\u001b[39;00m context\u001b[39m.\u001b[39mget_time() \u001b[39m>\u001b[39m time_limit:\n\u001b[1;32m    206\u001b[0m         \u001b[39mreturn\u001b[39;00m EventStatus\u001b[39m.\u001b[39mReachedTermination(diagram, \u001b[39m\"\u001b[39m\u001b[39mtime limit\u001b[39m\u001b[39m\"\u001b[39m)\n",
      "\u001b[0;31mKeyboardInterrupt\u001b[0m: "
     ]
    }
   ],
   "source": [
    "obs = env.reset()\n",
    "for i in range(500):\n",
    "    action, _state = model.predict(obs, deterministic=True)\n",
    "    obs, reward, done, info = env.step(action)\n",
    "    env.render()\n",
    "    if done:\n",
    "        obs = env.reset()"
   ]
  },
  {
   "cell_type": "code",
   "execution_count": 10,
   "metadata": {},
   "outputs": [
    {
     "name": "stdout",
     "output_type": "stream",
     "text": [
      "Saved model to: PPO_test_3.zip\n"
     ]
    }
   ],
   "source": [
    "save_dir = './models'\n",
    "saved_model_fnames = os.listdir(save_dir)\n",
    "\n",
    "i = 0\n",
    "while True:\n",
    "    model_fname = f'PPO_test_{i}.zip'\n",
    "    if model_fname not in saved_model_fnames:\n",
    "        break\n",
    "    i += 1\n",
    "\n",
    "save_fname = f'./models/{model_fname}'\n",
    "model.save(save_fname)\n",
    "print(f'Saved model to: {model_fname}')"
   ]
  },
  {
   "cell_type": "code",
   "execution_count": null,
   "metadata": {},
   "outputs": [],
   "source": []
  }
 ],
 "metadata": {
  "kernelspec": {
   "display_name": "68210",
   "language": "python",
   "name": "python3"
  },
  "language_info": {
   "codemirror_mode": {
    "name": "ipython",
    "version": 3
   },
   "file_extension": ".py",
   "mimetype": "text/x-python",
   "name": "python",
   "nbconvert_exporter": "python",
   "pygments_lexer": "ipython3",
   "version": "3.10.11"
  },
  "orig_nbformat": 4
 },
 "nbformat": 4,
 "nbformat_minor": 2
}
