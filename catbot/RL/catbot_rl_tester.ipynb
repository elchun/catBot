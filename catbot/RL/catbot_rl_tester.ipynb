{
 "cells": [
  {
   "attachments": {},
   "cell_type": "markdown",
   "metadata": {},
   "source": [
    "# Test the training procedure of CatBot\n",
    "\n",
    "Some insight into tensorboard plots:\n",
    "https://medium.com/aureliantactics/understanding-ppo-plots-in-tensorboard-cbc3199b9ba2"
   ]
  },
  {
   "cell_type": "code",
   "execution_count": 1,
   "metadata": {},
   "outputs": [],
   "source": [
    "import os\n",
    "import gym\n",
    "import numpy as np\n",
    "import torch\n",
    "from pydrake.all import StartMeshcat\n",
    "\n",
    "from catbot.RL.catbot_rl_env import CatBotEnv\n",
    "\n",
    "from psutil import cpu_count\n",
    "\n",
    "num_cpu = int(cpu_count() / 2)\n",
    "\n",
    "# Optional imports (these are heavy dependencies for just this one notebook)\n",
    "sb3_available = False\n",
    "try:\n",
    "    from stable_baselines3 import PPO\n",
    "    from stable_baselines3.common.vec_env import SubprocVecEnv\n",
    "    from stable_baselines3.common.env_util import make_vec_env\n",
    "\n",
    "    sb3_available = True\n",
    "except ImportError:\n",
    "    print(\"stable_baselines3 not found\")\n",
    "    print(\"Consider 'pip3 install stable_baselines3'.\")\n"
   ]
  },
  {
   "cell_type": "code",
   "execution_count": 2,
   "metadata": {},
   "outputs": [
    {
     "name": "stderr",
     "output_type": "stream",
     "text": [
      "INFO:drake:Meshcat listening for connections at http://localhost:7000\n"
     ]
    }
   ],
   "source": [
    "meshcat = StartMeshcat()\n",
    "\n",
    "gym.envs.register(\n",
    "    id=\"CatBot-v0\", entry_point=\"catbot.RL.catbot_rl_env:CatBotEnv\"\n",
    ")"
   ]
  },
  {
   "cell_type": "code",
   "execution_count": 3,
   "metadata": {},
   "outputs": [],
   "source": [
    "observations = \"state\"\n",
    "time_limit = 10\n",
    "\n",
    "env = make_vec_env(\n",
    "    CatBotEnv,\n",
    "    n_envs=8,  # Was num_cpu\n",
    "    seed=0,\n",
    "    vec_env_cls=SubprocVecEnv,\n",
    "    env_kwargs={\n",
    "        \"observations\": observations,\n",
    "        \"time_limit\": time_limit,\n",
    "    },\n",
    ")\n",
    "\n",
    "use_pretrained_model = False\n",
    "if use_pretrained_model:\n",
    "    pass\n",
    "else:\n",
    "    model = PPO(\n",
    "        \"MlpPolicy\",\n",
    "        env,\n",
    "        verbose=0,\n",
    "        n_steps=8,\n",
    "        n_epochs=2,\n",
    "        batch_size=64,\n",
    "        tensorboard_log=\"./ppo_cat_bot_logs\")\n",
    "    model.learn(total_timesteps=100000)\n",
    "\n",
    "env = gym.make(\"CatBot-v0\", meshcat=meshcat, observations=observations, time_limit=time_limit)\n",
    "\n",
    "env.simulator.set_target_realtime_rate(1.0)"
   ]
  },
  {
   "cell_type": "code",
   "execution_count": 12,
   "metadata": {},
   "outputs": [],
   "source": [
    "obs = env.reset()\n",
    "for i in range(500):\n",
    "    action, _state = model.predict(obs, deterministic=True)\n",
    "    obs, reward, done, info = env.step(action)\n",
    "    env.render()\n",
    "    if done:\n",
    "        obs = env.reset()"
   ]
  },
  {
   "cell_type": "code",
   "execution_count": 13,
   "metadata": {},
   "outputs": [
    {
     "name": "stdout",
     "output_type": "stream",
     "text": [
      "Saved model to: PPO_test_1.zip\n"
     ]
    }
   ],
   "source": [
    "save_dir = './models'\n",
    "saved_model_fnames = os.listdir(save_dir)\n",
    "\n",
    "i = 0\n",
    "while True:\n",
    "    model_fname = f'PPO_test_{i}.zip'\n",
    "    if model_fname not in saved_model_fnames:\n",
    "        break\n",
    "    i += 1\n",
    "\n",
    "save_fname = f'./models/{model_fname}'\n",
    "model.save(save_fname)\n",
    "print(f'Saved model to: {model_fname}')"
   ]
  }
 ],
 "metadata": {
  "kernelspec": {
   "display_name": "68210",
   "language": "python",
   "name": "python3"
  },
  "language_info": {
   "codemirror_mode": {
    "name": "ipython",
    "version": 3
   },
   "file_extension": ".py",
   "mimetype": "text/x-python",
   "name": "python",
   "nbconvert_exporter": "python",
   "pygments_lexer": "ipython3",
   "version": "3.10.11"
  },
  "orig_nbformat": 4
 },
 "nbformat": 4,
 "nbformat_minor": 2
}
