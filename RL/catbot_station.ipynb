{
 "cells": [
  {
   "cell_type": "code",
   "execution_count": 23,
   "metadata": {},
   "outputs": [],
   "source": [
    "import numpy as np\n",
    "import pydot\n",
    "from IPython.display import HTML, SVG, display\n",
    "from pydrake.all import (\n",
    "    AddMultibodyPlantSceneGraph,\n",
    "    DiagramBuilder,\n",
    "    GenerateHtml,\n",
    "    InverseDynamicsController,\n",
    "    MeshcatVisualizer,\n",
    "    MeshcatVisualizerParams,\n",
    "    MultibodyPlant,\n",
    "    Parser,\n",
    "    Simulator,\n",
    "    StartMeshcat,\n",
    "    SceneGraph,\n",
    "    PassThrough,\n",
    "    Demultiplexer,\n",
    ")"
   ]
  },
  {
   "cell_type": "code",
   "execution_count": 6,
   "metadata": {},
   "outputs": [
    {
     "name": "stderr",
     "output_type": "stream",
     "text": [
      "INFO:drake:Meshcat listening for connections at http://localhost:7001\n"
     ]
    }
   ],
   "source": [
    "meshcat = StartMeshcat()"
   ]
  },
  {
   "cell_type": "code",
   "execution_count": 6,
   "metadata": {},
   "outputs": [],
   "source": [
    "# -- Create Plant -- #\n",
    "plant = MultibodyPlant(time_step=0.0)\n",
    "scene_graph = SceneGraph()\n",
    "plant.RegisterAsSourceForSceneGraph(scene_graph)\n",
    "parser = Parser(plant=plant)\n",
    "# parser.AddModelFromFile(\"./cartpole.urdf\")\n",
    "parser.AddModelFromFile(\"../models/singleAxisCatBot.urdf\")\n",
    "plant.Finalize()\n",
    "context = plant.CreateDefaultContext()"
   ]
  },
  {
   "attachments": {},
   "cell_type": "markdown",
   "metadata": {},
   "source": [
    "Lets look at the context"
   ]
  },
  {
   "cell_type": "code",
   "execution_count": 7,
   "metadata": {},
   "outputs": [
    {
     "name": "stdout",
     "output_type": "stream",
     "text": [
      "::_ Context\n",
      "------------\n",
      "Time: 0\n",
      "States:\n",
      "  10 continuous states\n",
      "    0 0 0 0 0 0 0 0 0 0\n",
      "\n",
      "Parameters:\n",
      "  21 numeric parameter groups with\n",
      "     1 parameters\n",
      "       0\n",
      "     1 parameters\n",
      "       1\n",
      "     1 parameters\n",
      "       0\n",
      "     1 parameters\n",
      "       1\n",
      "     1 parameters\n",
      "       0\n",
      "     1 parameters\n",
      "       1\n",
      "     1 parameters\n",
      "       0\n",
      "     1 parameters\n",
      "       1\n",
      "     10 parameters\n",
      "       nan nan nan nan nan nan nan nan nan nan\n",
      "     10 parameters\n",
      "           1     0     0     0 1e-05 1e-05 1e-05     0     0     0\n",
      "     10 parameters\n",
      "           1     0     0     0 1e-05 1e-05 1e-05     0     0     0\n",
      "     10 parameters\n",
      "       0.0001   0.05      0      0    0.1 0.1025 0.1025      0      0      0\n",
      "     10 parameters\n",
      "       0.0001  -0.05      0      0    0.1 0.1025 0.1025      0      0      0\n",
      "     10 parameters\n",
      "             1    0.05       0       0 0.00045 0.00356 0.00356       0       0       0\n",
      "     10 parameters\n",
      "             1   -0.05       0       0 0.00045 0.00356 0.00356       0       0       0\n",
      "     12 parameters\n",
      "        1  0 -0  0  1  0  0  0  1  0  0  0\n",
      "     12 parameters\n",
      "        1  0 -0  0  1  0  0  0  1  0  0  0\n",
      "     12 parameters\n",
      "        1  0 -0  0  1  0  0  0  1  0  0  0\n",
      "     12 parameters\n",
      "        1  0 -0  0  1  0  0  0  1  0  0  0\n",
      "     12 parameters\n",
      "          1    0   -0    0    1    0    0    0    1 0.05    0    0\n",
      "     12 parameters\n",
      "           1     0    -0     0     1     0     0     0     1 -0.05     0     0\n",
      "  6 abstract parameters\n",
      "\n"
     ]
    }
   ],
   "source": [
    "print(context)"
   ]
  },
  {
   "cell_type": "code",
   "execution_count": 8,
   "metadata": {},
   "outputs": [
    {
     "data": {
      "text/plain": [
       "<pydrake.systems.framework.FixedInputPortValue at 0x11ab6f030>"
      ]
     },
     "execution_count": 8,
     "metadata": {},
     "output_type": "execute_result"
    }
   ],
   "source": [
    "plant.get_actuation_input_port().FixValue(context, np.zeros(4))"
   ]
  },
  {
   "cell_type": "code",
   "execution_count": null,
   "metadata": {},
   "outputs": [],
   "source": [
    "simulator = Simulator(plant, context)\n",
    "simulator.AdvanceTo(5.0)\n",
    "print(context)"
   ]
  },
  {
   "attachments": {},
   "cell_type": "markdown",
   "metadata": {},
   "source": [
    "# Visualization"
   ]
  },
  {
   "cell_type": "code",
   "execution_count": 7,
   "metadata": {},
   "outputs": [],
   "source": [
    "meshcat.Delete()\n",
    "meshcat.DeleteAddedControls()\n",
    "builder = DiagramBuilder()\n",
    "\n",
    "# Adds both MultibodyPlant and the SceneGraph, and wires them together.\n",
    "plant, scene_graph = AddMultibodyPlantSceneGraph(builder, time_step=1e-4)\n",
    "# Note that we parse into both the plant and the scene_graph here.\n",
    "Parser(plant, scene_graph).AddModelFromFile(\"../models/singleAxisCatBot.urdf\")\n",
    "plant.Finalize()\n",
    "\n",
    "# Adds the MeshcatVisualizer and wires it to the SceneGraph.\n",
    "visualizer = MeshcatVisualizer.AddToBuilder(builder, scene_graph, meshcat)\n",
    "\n",
    "diagram = builder.Build()"
   ]
  },
  {
   "cell_type": "code",
   "execution_count": 8,
   "metadata": {},
   "outputs": [],
   "source": [
    "context = diagram.CreateDefaultContext()\n",
    "diagram.ForcedPublish(context)"
   ]
  },
  {
   "cell_type": "code",
   "execution_count": 9,
   "metadata": {},
   "outputs": [
    {
     "name": "stderr",
     "output_type": "stream",
     "text": [
      "WARNING:drake:OutputPort[2] (continuous_state) of System ::_::plant (MultibodyPlant<double>) is deprecated: Use the port named 'state' instead; the 'continuous_state' alias will be removed on or after 2023-03-01.\n",
      "WARNING:drake:OutputPort[8] (WorldModelInstance_continuous_state) of System ::_::plant (MultibodyPlant<double>) is deprecated: Use the port suffixed with '_state' instead; the '_continuous_state' alias will be removed on or after 2023-03-01.\n",
      "WARNING:drake:OutputPort[11] (DefaultModelInstance_continuous_state) of System ::_::plant (MultibodyPlant<double>) is deprecated: Use the port suffixed with '_state' instead; the '_continuous_state' alias will be removed on or after 2023-03-01.\n",
      "WARNING:drake:OutputPort[14] (catBot_continuous_state) of System ::_::plant (MultibodyPlant<double>) is deprecated: Use the port suffixed with '_state' instead; the '_continuous_state' alias will be removed on or after 2023-03-01.\n"
     ]
    },
    {
     "data": {
      "image/svg+xml": [
       "<svg xmlns=\"http://www.w3.org/2000/svg\" xmlns:xlink=\"http://www.w3.org/1999/xlink\" width=\"1110pt\" height=\"641pt\" viewBox=\"0.00 0.00 1110.00 641.00\">\n",
       "<g id=\"graph0\" class=\"graph\" transform=\"scale(1 1) rotate(0) translate(4 637)\">\n",
       "<title>_4512269536</title>\n",
       "<polygon fill=\"white\" stroke=\"none\" points=\"-4,4 -4,-637 1106,-637 1106,4 -4,4\"/>\n",
       "<g id=\"clust1\" class=\"cluster\">\n",
       "<title>cluster4512269536diagram</title>\n",
       "<polygon fill=\"none\" stroke=\"black\" points=\"8,-8 8,-625 1094,-625 1094,-8 8,-8\"/>\n",
       "<text text-anchor=\"middle\" x=\"551\" y=\"-609.8\" font-family=\"Times,serif\" font-size=\"14.00\">4512269536</text>\n",
       "</g>\n",
       "<g id=\"clust4\" class=\"cluster\">\n",
       "<title>cluster4512269536subsystems</title>\n",
       "<polygon fill=\"none\" stroke=\"white\" points=\"16,-16 16,-594 1086,-594 1086,-16 16,-16\"/>\n",
       "</g>\n",
       "<!-- 4515473408 -->\n",
       "<g id=\"node1\" class=\"node\">\n",
       "<title>4515473408</title>\n",
       "<polygon fill=\"none\" stroke=\"black\" points=\"24,-79 24,-585 511,-585 511,-79 24,-79\"/>\n",
       "<text text-anchor=\"middle\" x=\"267.5\" y=\"-569.8\" font-family=\"Times,serif\" font-size=\"14.00\">plant</text>\n",
       "<polyline fill=\"none\" stroke=\"black\" points=\"24,-562 511,-562\"/>\n",
       "<text text-anchor=\"middle\" x=\"121\" y=\"-523.8\" font-family=\"Times,serif\" font-size=\"14.00\">geometry_query</text>\n",
       "<polyline fill=\"none\" stroke=\"black\" points=\"24,-493 218,-493\"/>\n",
       "<text text-anchor=\"middle\" x=\"121\" y=\"-454.8\" font-family=\"Times,serif\" font-size=\"14.00\">WorldModelInstance_actuation</text>\n",
       "<polyline fill=\"none\" stroke=\"black\" points=\"24,-424 218,-424\"/>\n",
       "<text text-anchor=\"middle\" x=\"121\" y=\"-385.8\" font-family=\"Times,serif\" font-size=\"14.00\">DefaultModelInstance_actuation</text>\n",
       "<polyline fill=\"none\" stroke=\"black\" points=\"24,-355 218,-355\"/>\n",
       "<text text-anchor=\"middle\" x=\"121\" y=\"-316.8\" font-family=\"Times,serif\" font-size=\"14.00\">catBot_actuation</text>\n",
       "<polyline fill=\"none\" stroke=\"black\" points=\"24,-286 218,-286\"/>\n",
       "<text text-anchor=\"middle\" x=\"121\" y=\"-247.8\" font-family=\"Times,serif\" font-size=\"14.00\">actuation</text>\n",
       "<polyline fill=\"none\" stroke=\"black\" points=\"24,-217 218,-217\"/>\n",
       "<text text-anchor=\"middle\" x=\"121\" y=\"-178.8\" font-family=\"Times,serif\" font-size=\"14.00\">applied_generalized_force</text>\n",
       "<polyline fill=\"none\" stroke=\"black\" points=\"24,-148 218,-148\"/>\n",
       "<text text-anchor=\"middle\" x=\"121\" y=\"-109.8\" font-family=\"Times,serif\" font-size=\"14.00\">applied_spatial_force</text>\n",
       "<polyline fill=\"none\" stroke=\"black\" points=\"218,-79 218,-562\"/>\n",
       "<text text-anchor=\"middle\" x=\"364.5\" y=\"-546.8\" font-family=\"Times,serif\" font-size=\"14.00\">geometry_pose</text>\n",
       "<polyline fill=\"none\" stroke=\"black\" points=\"218,-539 511,-539\"/>\n",
       "<text text-anchor=\"middle\" x=\"364.5\" y=\"-523.8\" font-family=\"Times,serif\" font-size=\"14.00\">state</text>\n",
       "<polyline fill=\"none\" stroke=\"black\" points=\"218,-516 511,-516\"/>\n",
       "<text text-anchor=\"middle\" x=\"364.5\" y=\"-500.8\" font-family=\"Times,serif\" font-size=\"14.00\">continuous_state</text>\n",
       "<polyline fill=\"none\" stroke=\"black\" points=\"218,-493 511,-493\"/>\n",
       "<text text-anchor=\"middle\" x=\"364.5\" y=\"-477.8\" font-family=\"Times,serif\" font-size=\"14.00\">body_poses</text>\n",
       "<polyline fill=\"none\" stroke=\"black\" points=\"218,-470 511,-470\"/>\n",
       "<text text-anchor=\"middle\" x=\"364.5\" y=\"-454.8\" font-family=\"Times,serif\" font-size=\"14.00\">spatial_velocities</text>\n",
       "<polyline fill=\"none\" stroke=\"black\" points=\"218,-447 511,-447\"/>\n",
       "<text text-anchor=\"middle\" x=\"364.5\" y=\"-431.8\" font-family=\"Times,serif\" font-size=\"14.00\">spatial_accelerations</text>\n",
       "<polyline fill=\"none\" stroke=\"black\" points=\"218,-424 511,-424\"/>\n",
       "<text text-anchor=\"middle\" x=\"364.5\" y=\"-408.8\" font-family=\"Times,serif\" font-size=\"14.00\">generalized_acceleration</text>\n",
       "<polyline fill=\"none\" stroke=\"black\" points=\"218,-401 511,-401\"/>\n",
       "<text text-anchor=\"middle\" x=\"364.5\" y=\"-385.8\" font-family=\"Times,serif\" font-size=\"14.00\">WorldModelInstance_state</text>\n",
       "<polyline fill=\"none\" stroke=\"black\" points=\"218,-378 511,-378\"/>\n",
       "<text text-anchor=\"middle\" x=\"364.5\" y=\"-362.8\" font-family=\"Times,serif\" font-size=\"14.00\">WorldModelInstance_continuous_state</text>\n",
       "<polyline fill=\"none\" stroke=\"black\" points=\"218,-355 511,-355\"/>\n",
       "<text text-anchor=\"middle\" x=\"364.5\" y=\"-339.8\" font-family=\"Times,serif\" font-size=\"14.00\">WorldModelInstance_generalized_acceleration</text>\n",
       "<polyline fill=\"none\" stroke=\"black\" points=\"218,-332 511,-332\"/>\n",
       "<text text-anchor=\"middle\" x=\"364.5\" y=\"-316.8\" font-family=\"Times,serif\" font-size=\"14.00\">DefaultModelInstance_state</text>\n",
       "<polyline fill=\"none\" stroke=\"black\" points=\"218,-309 511,-309\"/>\n",
       "<text text-anchor=\"middle\" x=\"364.5\" y=\"-293.8\" font-family=\"Times,serif\" font-size=\"14.00\">DefaultModelInstance_continuous_state</text>\n",
       "<polyline fill=\"none\" stroke=\"black\" points=\"218,-286 511,-286\"/>\n",
       "<text text-anchor=\"middle\" x=\"364.5\" y=\"-270.8\" font-family=\"Times,serif\" font-size=\"14.00\">DefaultModelInstance_generalized_acceleration</text>\n",
       "<polyline fill=\"none\" stroke=\"black\" points=\"218,-263 511,-263\"/>\n",
       "<text text-anchor=\"middle\" x=\"364.5\" y=\"-247.8\" font-family=\"Times,serif\" font-size=\"14.00\">catBot_state</text>\n",
       "<polyline fill=\"none\" stroke=\"black\" points=\"218,-240 511,-240\"/>\n",
       "<text text-anchor=\"middle\" x=\"364.5\" y=\"-224.8\" font-family=\"Times,serif\" font-size=\"14.00\">catBot_continuous_state</text>\n",
       "<polyline fill=\"none\" stroke=\"black\" points=\"218,-217 511,-217\"/>\n",
       "<text text-anchor=\"middle\" x=\"364.5\" y=\"-201.8\" font-family=\"Times,serif\" font-size=\"14.00\">catBot_generalized_acceleration</text>\n",
       "<polyline fill=\"none\" stroke=\"black\" points=\"218,-194 511,-194\"/>\n",
       "<text text-anchor=\"middle\" x=\"364.5\" y=\"-178.8\" font-family=\"Times,serif\" font-size=\"14.00\">WorldModelInstance_generalized_contact_forces</text>\n",
       "<polyline fill=\"none\" stroke=\"black\" points=\"218,-171 511,-171\"/>\n",
       "<text text-anchor=\"middle\" x=\"364.5\" y=\"-155.8\" font-family=\"Times,serif\" font-size=\"14.00\">DefaultModelInstance_generalized_contact_forces</text>\n",
       "<polyline fill=\"none\" stroke=\"black\" points=\"218,-148 511,-148\"/>\n",
       "<text text-anchor=\"middle\" x=\"364.5\" y=\"-132.8\" font-family=\"Times,serif\" font-size=\"14.00\">catBot_generalized_contact_forces</text>\n",
       "<polyline fill=\"none\" stroke=\"black\" points=\"218,-125 511,-125\"/>\n",
       "<text text-anchor=\"middle\" x=\"364.5\" y=\"-109.8\" font-family=\"Times,serif\" font-size=\"14.00\">reaction_forces</text>\n",
       "<polyline fill=\"none\" stroke=\"black\" points=\"218,-102 511,-102\"/>\n",
       "<text text-anchor=\"middle\" x=\"364.5\" y=\"-86.8\" font-family=\"Times,serif\" font-size=\"14.00\">contact_results</text>\n",
       "</g>\n",
       "<!-- 4512278400 -->\n",
       "<g id=\"node2\" class=\"node\">\n",
       "<title>4512278400</title>\n",
       "<polygon fill=\"none\" stroke=\"black\" points=\"547,-510.5 547,-579.5 717,-579.5 717,-510.5 547,-510.5\"/>\n",
       "<text text-anchor=\"middle\" x=\"632\" y=\"-564.3\" font-family=\"Times,serif\" font-size=\"14.00\">scene_graph</text>\n",
       "<polyline fill=\"none\" stroke=\"black\" points=\"547,-556.5 717,-556.5\"/>\n",
       "<text text-anchor=\"middle\" x=\"608.5\" y=\"-541.3\" font-family=\"Times,serif\" font-size=\"14.00\">plant_pose</text>\n",
       "<polyline fill=\"none\" stroke=\"black\" points=\"547,-533.5 670,-533.5\"/>\n",
       "<text text-anchor=\"middle\" x=\"608.5\" y=\"-518.3\" font-family=\"Times,serif\" font-size=\"14.00\">plant_configuration</text>\n",
       "<polyline fill=\"none\" stroke=\"black\" points=\"670,-510.5 670,-556.5\"/>\n",
       "<text text-anchor=\"middle\" x=\"693.5\" y=\"-529.8\" font-family=\"Times,serif\" font-size=\"14.00\">query</text>\n",
       "</g>\n",
       "<!-- 4515473408&#45;&gt;4512278400 -->\n",
       "<g id=\"edge1\" class=\"edge\">\n",
       "<title>4515473408:y0-&gt;4512278400:u0</title>\n",
       "<path fill=\"none\" stroke=\"black\" d=\"M511,-551C522.66,-551 527.78,-547.9 535.76,-546.16\"/>\n",
       "<polygon fill=\"black\" stroke=\"black\" points=\"535.91,-549.66 545.49,-545.15 535.19,-542.7 535.91,-549.66\"/>\n",
       "</g>\n",
       "<!-- 4512278400&#45;&gt;4515473408 -->\n",
       "<g id=\"edge3\" class=\"edge\">\n",
       "<title>4512278400:y0-&gt;4515473408:u0</title>\n",
       "<path fill=\"none\" stroke=\"black\" d=\"M694,-509C694,-443.67 602.13,-474.95 547,-510 515.63,-529.95 542.44,-565.66 511,-585.5 465.19,-614.41 62.13,-623.47 23.5,-585.5 8.55,-570.8 0.25,-541.53 11.87,-531.48\"/>\n",
       "<polygon fill=\"black\" stroke=\"black\" points=\"12.65,-534.91 21.06,-528.47 10.47,-528.25 12.65,-534.91\"/>\n",
       "</g>\n",
       "<!-- 4512367936 -->\n",
       "<g id=\"node3\" class=\"node\">\n",
       "<title>4512367936</title>\n",
       "<polygon fill=\"none\" stroke=\"black\" points=\"753,-522 753,-568 1078,-568 1078,-522 753,-522\"/>\n",
       "<text text-anchor=\"middle\" x=\"915.5\" y=\"-552.8\" font-family=\"Times,serif\" font-size=\"14.00\">drake/geometry/MeshcatVisualizer@000000010cf54540</text>\n",
       "<polyline fill=\"none\" stroke=\"black\" points=\"753,-545 1078,-545\"/>\n",
       "<text text-anchor=\"middle\" x=\"851\" y=\"-529.8\" font-family=\"Times,serif\" font-size=\"14.00\">query_object</text>\n",
       "<polyline fill=\"none\" stroke=\"black\" points=\"949,-522 949,-545\"/>\n",
       "<text text-anchor=\"middle\" x=\"1013.5\" y=\"-529.8\" font-family=\"Times,serif\" font-size=\"14.00\"> </text>\n",
       "</g>\n",
       "<!-- 4512278400&#45;&gt;4512367936 -->\n",
       "<g id=\"edge2\" class=\"edge\">\n",
       "<title>4512278400:y0-&gt;4512367936:u0</title>\n",
       "<path fill=\"none\" stroke=\"black\" d=\"M717,-533C728.38,-533 733.68,-533 741.55,-533\"/>\n",
       "<polygon fill=\"black\" stroke=\"black\" points=\"741.49,-536.5 751.49,-533 741.49,-529.5 741.49,-536.5\"/>\n",
       "</g>\n",
       "<!-- \\n -->\n",
       "<g id=\"node4\" class=\"node\">\n",
       "<title>\\n</title>\n",
       "<ellipse fill=\"none\" stroke=\"black\" cx=\"267.5\" cy=\"-42\" rx=\"27\" ry=\"18\"/>\n",
       "</g>\n",
       "</g>\n",
       "</svg>"
      ],
      "text/plain": [
       "<IPython.core.display.SVG object>"
      ]
     },
     "execution_count": 9,
     "metadata": {},
     "output_type": "execute_result"
    }
   ],
   "source": [
    "SVG(pydot.graph_from_dot_data(diagram.GetGraphvizString())[0].create_svg())\n"
   ]
  },
  {
   "cell_type": "code",
   "execution_count": 10,
   "metadata": {},
   "outputs": [
    {
     "name": "stdout",
     "output_type": "stream",
     "text": [
      "::_ Context (of a Diagram)\n",
      "---------------------------\n",
      "10 total discrete states in 1 groups\n",
      "150 total numeric parameters in 21 groups\n",
      "7 total abstract parameters\n",
      "\n",
      "::_::plant Context\n",
      "-------------------\n",
      "Time: 0\n",
      "States:\n",
      "  1 discrete state groups with\n",
      "     10 states\n",
      "              0 0.785398 0.785398        0        0        0        0        0        0        0\n",
      "\n",
      "Parameters:\n",
      "  21 numeric parameter groups with\n",
      "     1 parameters\n",
      "       0\n",
      "     1 parameters\n",
      "       1\n",
      "     1 parameters\n",
      "       0\n",
      "     1 parameters\n",
      "       1\n",
      "     1 parameters\n",
      "       0\n",
      "     1 parameters\n",
      "       1\n",
      "     1 parameters\n",
      "       0\n",
      "     1 parameters\n",
      "       1\n",
      "     10 parameters\n",
      "       nan nan nan nan nan nan nan nan nan nan\n",
      "     10 parameters\n",
      "           1     0     0     0 1e-05 1e-05 1e-05     0     0     0\n",
      "     10 parameters\n",
      "           1     0     0     0 1e-05 1e-05 1e-05     0     0     0\n",
      "     10 parameters\n",
      "       0.0001   0.05      0      0    0.1 0.1025 0.1025      0      0      0\n",
      "     10 parameters\n",
      "       0.0001  -0.05      0      0    0.1 0.1025 0.1025      0      0      0\n",
      "     10 parameters\n",
      "             1    0.05       0       0 0.00045 0.00356 0.00356       0       0       0\n",
      "     10 parameters\n",
      "             1   -0.05       0       0 0.00045 0.00356 0.00356       0       0       0\n",
      "     12 parameters\n",
      "        1  0 -0  0  1  0  0  0  1  0  0  0\n",
      "     12 parameters\n",
      "        1  0 -0  0  1  0  0  0  1  0  0  0\n",
      "     12 parameters\n",
      "        1  0 -0  0  1  0  0  0  1  0  0  0\n",
      "     12 parameters\n",
      "        1  0 -0  0  1  0  0  0  1  0  0  0\n",
      "     12 parameters\n",
      "          1    0   -0    0    1    0    0    0    1 0.05    0    0\n",
      "     12 parameters\n",
      "           1     0    -0     0     1     0     0     0     1 -0.05     0     0\n",
      "  6 abstract parameters\n",
      "\n",
      "::_::scene_graph Context\n",
      "-------------------------\n",
      "Time: 0\n",
      "Parameters:\n",
      "  1 abstract parameters\n",
      "\n"
     ]
    }
   ],
   "source": [
    "plant_context = plant.GetMyMutableContextFromRoot(context)\n",
    "plant.SetPositions(plant_context, [0, np.pi/4, np.pi/4, 0, 0])\n",
    "plant.get_actuation_input_port().FixValue(plant_context, np.zeros(4))\n",
    "print(context)\n"
   ]
  },
  {
   "cell_type": "code",
   "execution_count": 15,
   "metadata": {},
   "outputs": [
    {
     "data": {
      "text/plain": [
       "<pydrake.systems.analysis.SimulatorStatus at 0x291fadff0>"
      ]
     },
     "execution_count": 15,
     "metadata": {},
     "output_type": "execute_result"
    }
   ],
   "source": [
    "simulator = Simulator(diagram, context)  # If you get an error, comment this line out\n",
    "simulator.set_target_realtime_rate(1.0)\n",
    "simulator.AdvanceTo(5.0)"
   ]
  },
  {
   "attachments": {},
   "cell_type": "markdown",
   "metadata": {},
   "source": [
    "# Adding a Controller"
   ]
  },
  {
   "cell_type": "code",
   "execution_count": 28,
   "metadata": {},
   "outputs": [
    {
     "ename": "SystemExit",
     "evalue": "Failure at systems/controllers/inverse_dynamics_controller.cc:41 in SetUp(): condition 'num_positions == num_actuators' failed.",
     "output_type": "error",
     "traceback": [
      "An exception has occurred, use %tb to see the full traceback.\n",
      "\u001b[0;31mSystemExit\u001b[0m\u001b[0;31m:\u001b[0m Failure at systems/controllers/inverse_dynamics_controller.cc:41 in SetUp(): condition 'num_positions == num_actuators' failed.\n"
     ]
    },
    {
     "name": "stderr",
     "output_type": "stream",
     "text": [
      "/Users/elchun/opt/miniconda3/envs/68210/lib/python3.10/site-packages/IPython/core/interactiveshell.py:3513: UserWarning: To exit: use 'exit', 'quit', or Ctrl-D.\n",
      "  warn(\"To exit: use 'exit', 'quit', or Ctrl-D.\", stacklevel=1)\n"
     ]
    }
   ],
   "source": [
    "time_step = 1e-4\n",
    "builder = DiagramBuilder()\n",
    "\n",
    "# Adds both MultibodyPlant and the SceneGraph, and wires them together.\n",
    "plant, scene_graph = AddMultibodyPlantSceneGraph(builder, time_step=time_step)\n",
    "# Note that we parse into both the plant and the scene_graph here.\n",
    "model = Parser(plant, scene_graph).AddModelFromFile(\n",
    "    \"../models/singleAxisCatBot.urdf\")\n",
    "plant.Finalize()\n",
    "\n",
    "# Adds the MeshcatVisualizer and wires it to the SceneGraph.\n",
    "visualizer = MeshcatVisualizer.AddToBuilder(builder, scene_graph, meshcat)\n",
    "\n",
    "# -- Add Controller -- #\n",
    "# Based on https://github.com/elchun/ChessBot/blob/main/src/chess_bot/stations/teleop_station.py\n",
    "\n",
    "num_model_positions = plant.num_positions(model)\n",
    "model_position = builder.AddSystem(PassThrough(num_model_positions))\n",
    "builder.ExportInput(model_position.get_input_port(), \"model_position\")\n",
    "builder.ExportOutput(model_position.get_output_port(), \"model_position_commanded\")\n",
    "\n",
    "# Export \"state\" outputs\n",
    "demux = builder.AddSystem(\n",
    "    Demultiplexer(2 * num_model_positions, num_model_positions))\n",
    "builder.Connect(plant.get_state_output_port(model),\n",
    "                demux.get_input_port())\n",
    "builder.ExportOutput(demux.get_output_port(0),\n",
    "                        \"position_measured\")\n",
    "builder.ExportOutput(demux.get_output_port(1),\n",
    "                        \"velocity_estimated\")\n",
    "builder.ExportOutput(plant.get_state_output_port(model),\n",
    "                        \"state_estimated\")\n",
    "\n",
    "controller_plant = MultibodyPlant(time_step=time_step)\n",
    "model = Parser(controller_plant).AddModelFromFile(\n",
    "    \"../models/singleAxisCatBot.urdf\")\n",
    "controller_plant.Finalize()\n",
    "\n",
    "# Adds an approximation of the iiwa controller.\n",
    "# TODO(russt): replace this with the joint impedance controller.\n",
    "# kp = [100] * plant.num_positions()\n",
    "# ki = [1] * plant.num_actuators()\n",
    "# kd = [20] * plant.num_actuators()\n",
    "\n",
    "kp = [100] * num_model_positions\n",
    "ki = [1] * num_model_positions \n",
    "kd = [20] * num_model_positions\n",
    "catbot_controller = builder.AddSystem(\n",
    "    InverseDynamicsController(controller_plant, kp, ki, kd, False)\n",
    ")\n",
    "print('here')\n",
    "catbot_controller.set_name(\"catbot_controller\")\n",
    "builder.Connect(\n",
    "    plant.get_state_output_port(model),\n",
    "    catbot_controller.get_input_port_estimated_state(),\n",
    ")\n",
    "builder.Connect(\n",
    "    catbot_controller.get_output_port_control(), plant.get_actuation_input_port()\n",
    ")\n",
    "diagram = builder.Build()"
   ]
  },
  {
   "cell_type": "code",
   "execution_count": null,
   "metadata": {},
   "outputs": [],
   "source": []
  }
 ],
 "metadata": {
  "kernelspec": {
   "display_name": "68210",
   "language": "python",
   "name": "python3"
  },
  "language_info": {
   "codemirror_mode": {
    "name": "ipython",
    "version": 3
   },
   "file_extension": ".py",
   "mimetype": "text/x-python",
   "name": "python",
   "nbconvert_exporter": "python",
   "pygments_lexer": "ipython3",
   "version": "3.10.11"
  },
  "orig_nbformat": 4
 },
 "nbformat": 4,
 "nbformat_minor": 2
}
