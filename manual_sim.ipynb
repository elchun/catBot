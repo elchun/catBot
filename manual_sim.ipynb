{
 "cells": [
  {
   "attachments": {},
   "cell_type": "markdown",
   "metadata": {},
   "source": [
    "# Basic Simulator For CatBot\n",
    "\n",
    "Simulate CatBot with no gravity.  Allows for manual control of joints.\n",
    "\n",
    "Based on: https://deepnote.com/workspace/Drake-0b3b2c53-a7ad-441b-80f8-bf8350752305/project/Tutorials-2b4fc509-aef2-417d-a40d-6071dfed9199/notebook/authoring_multibody_simulation-ad3d32e7918847799644d6ffae34866f"
   ]
  },
  {
   "cell_type": "code",
   "execution_count": 1,
   "metadata": {},
   "outputs": [],
   "source": [
    "import numpy as np\n",
    "\n",
    "from pydrake.geometry import (\n",
    "    MeshcatVisualizer,\n",
    "    MeshcatVisualizerParams,\n",
    "    Role,\n",
    "    StartMeshcat,\n",
    ")\n",
    "from pydrake.math import RigidTransform, RollPitchYaw\n",
    "from pydrake.multibody.parsing import Parser\n",
    "from pydrake.multibody.plant import AddMultibodyPlantSceneGraph\n",
    "from pydrake.systems.analysis import Simulator\n",
    "from pydrake.systems.framework import DiagramBuilder\n",
    "from pydrake.visualization import ModelVisualizer"
   ]
  },
  {
   "cell_type": "code",
   "execution_count": 2,
   "metadata": {},
   "outputs": [
    {
     "name": "stderr",
     "output_type": "stream",
     "text": [
      "INFO:drake:Meshcat listening for connections at http://localhost:7001\n"
     ]
    }
   ],
   "source": [
    "meshcat = StartMeshcat()"
   ]
  },
  {
   "cell_type": "code",
   "execution_count": 4,
   "metadata": {},
   "outputs": [],
   "source": [
    "model_path = './catBot.urdf'"
   ]
  },
  {
   "attachments": {},
   "cell_type": "markdown",
   "metadata": {},
   "source": [
    "## Show Model"
   ]
  },
  {
   "cell_type": "code",
   "execution_count": 5,
   "metadata": {},
   "outputs": [
    {
     "name": "stdout",
     "output_type": "stream",
     "text": [
      "Click 'Stop Running' or press Esc to quit\n"
     ]
    },
    {
     "data": {
      "text/plain": [
       "<RunResult.STOPPED: 2>"
      ]
     },
     "execution_count": 5,
     "metadata": {},
     "output_type": "execute_result"
    }
   ],
   "source": [
    "visualizer = ModelVisualizer(meshcat=meshcat)\n",
    "visualizer.parser().AddModels(model_path)\n",
    "\n",
    "visualizer.Run(loop_once=False)"
   ]
  },
  {
   "cell_type": "code",
   "execution_count": 10,
   "metadata": {},
   "outputs": [
    {
     "name": "stdout",
     "output_type": "stream",
     "text": [
      "<RigidBody_[float] name='link_A' index=1 model_instance=2>\n"
     ]
    }
   ],
   "source": [
    "def create_scene(sim_time_step):\n",
    "    cat_path = './catBot.urdf'\n",
    "\n",
    "    meshcat.Delete()\n",
    "    meshcat.DeleteAddedControls()\n",
    "\n",
    "    # Make builder, plant, parser\n",
    "    builder = DiagramBuilder()\n",
    "    plant, scene_graph = AddMultibodyPlantSceneGraph(\n",
    "        builder, time_step=sim_time_step)\n",
    "    parser = Parser(plant)\n",
    "\n",
    "    # Add cat\n",
    "    parser.AddModelFromFile(cat_path)\n",
    "\n",
    "    plant.Finalize()\n",
    "\n",
    "    # Create plant context\n",
    "    plant_context = plant.CreateDefaultContext()\n",
    "    cat = plant.GetBodyByName('link_A')\n",
    "    X_worldCat = RigidTransform(RollPitchYaw(np.array([0, 0, 0])), p=np.array([0, 0, 0.1]))\n",
    "    plant.SetDefaultFreeBodyPose(cat, X_worldCat)\n",
    "\n",
    "    visualizer = MeshcatVisualizer.AddToBuilder(\n",
    "        builder, scene_graph, meshcat, MeshcatVisualizerParams(role=Role.kPerception, \n",
    "                                                               prefix=\"visual\")\n",
    "    )\n",
    "\n",
    "    diagram = builder.Build()\n",
    "    return diagram, visualizer \n",
    "\n",
    "create_scene(0.001)\n",
    "\n"
   ]
  },
  {
   "cell_type": "code",
   "execution_count": 6,
   "metadata": {},
   "outputs": [],
   "source": [
    "def initialize_simulation(diagram):\n",
    "    simulator = Simulator(diagram)\n",
    "    simulator.Initialize()\n",
    "    simulator.set_target_realtime_rate(1.)\n",
    "    return simulator\n",
    "\n",
    "def run_simulation(sim_time_step):\n",
    "    diagram, visualizer = create_scene(sim_time_step)\n",
    "    simulator = initialize_simulation(diagram)\n",
    "    visualizer.StartRecording()\n",
    "    finish_time = 0.1 if test_mode else 2.0\n",
    "    simulator.AdvanceTo(finish_time)\n",
    "    visualizer.PublishRecording()\n",
    "\n",
    "# Run the simulation with a small time step. Try gradually increasing it!\n",
    "run_simulation(sim_time_step=0.0001)"
   ]
  },
  {
   "cell_type": "code",
   "execution_count": null,
   "metadata": {},
   "outputs": [],
   "source": []
  }
 ],
 "metadata": {
  "kernelspec": {
   "display_name": "68210",
   "language": "python",
   "name": "python3"
  },
  "language_info": {
   "codemirror_mode": {
    "name": "ipython",
    "version": 3
   },
   "file_extension": ".py",
   "mimetype": "text/x-python",
   "name": "python",
   "nbconvert_exporter": "python",
   "pygments_lexer": "ipython3",
   "version": "3.10.11"
  },
  "orig_nbformat": 4
 },
 "nbformat": 4,
 "nbformat_minor": 2
}
